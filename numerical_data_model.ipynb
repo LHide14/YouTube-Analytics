{
 "cells": [
  {
   "cell_type": "markdown",
   "metadata": {},
   "source": [
    "# Import Libraries"
   ]
  },
  {
   "cell_type": "code",
   "execution_count": 701,
   "metadata": {},
   "outputs": [],
   "source": [
    "import pandas as pd\n",
    "import numpy as np\n",
    "import matplotlib.pyplot as plt\n",
    "import pickle\n",
    "\n",
    "from sklearn.preprocessing import StandardScaler, RobustScaler, MinMaxScaler\n",
    "from sklearn.model_selection import train_test_split\n",
    "from sklearn import metrics\n",
    "from sklearn.linear_model import LogisticRegression\n",
    "from sklearn.metrics import accuracy_score"
   ]
  },
  {
   "cell_type": "markdown",
   "metadata": {},
   "source": [
    "# Importing Data"
   ]
  },
  {
   "cell_type": "code",
   "execution_count": 702,
   "metadata": {},
   "outputs": [],
   "source": [
    "with open('new_eda_data.pkl', 'rb') as file:\n",
    "    df = pickle.load(file)"
   ]
  },
  {
   "cell_type": "code",
   "execution_count": 703,
   "metadata": {},
   "outputs": [],
   "source": [
    "# adjust display options to show all columns\n",
    "pd.set_option('display.max_columns', None)"
   ]
  },
  {
   "cell_type": "markdown",
   "metadata": {},
   "source": [
    "# Explore numerical and binary columns"
   ]
  },
  {
   "cell_type": "code",
   "execution_count": 704,
   "metadata": {},
   "outputs": [
    {
     "data": {
      "text/html": [
       "<div>\n",
       "<style scoped>\n",
       "    .dataframe tbody tr th:only-of-type {\n",
       "        vertical-align: middle;\n",
       "    }\n",
       "\n",
       "    .dataframe tbody tr th {\n",
       "        vertical-align: top;\n",
       "    }\n",
       "\n",
       "    .dataframe thead th {\n",
       "        text-align: right;\n",
       "    }\n",
       "</style>\n",
       "<table border=\"1\" class=\"dataframe\">\n",
       "  <thead>\n",
       "    <tr style=\"text-align: right;\">\n",
       "      <th></th>\n",
       "      <th>video_id</th>\n",
       "      <th>channel_id</th>\n",
       "      <th>title</th>\n",
       "      <th>description</th>\n",
       "      <th>tags</th>\n",
       "      <th>caption</th>\n",
       "      <th>licensed_content</th>\n",
       "      <th>view_count</th>\n",
       "      <th>like_count</th>\n",
       "      <th>comment_count</th>\n",
       "      <th>channel_name</th>\n",
       "      <th>subscribers</th>\n",
       "      <th>total_views</th>\n",
       "      <th>total_videos</th>\n",
       "      <th>playlist_id</th>\n",
       "      <th>category</th>\n",
       "      <th>duration_formatted</th>\n",
       "      <th>published_at_formatted</th>\n",
       "      <th>no_of_tags</th>\n",
       "      <th>title_length</th>\n",
       "      <th>description_length</th>\n",
       "      <th>target</th>\n",
       "      <th>age</th>\n",
       "      <th>duration_minutes</th>\n",
       "    </tr>\n",
       "  </thead>\n",
       "  <tbody>\n",
       "    <tr>\n",
       "      <th>0</th>\n",
       "      <td>3fqTNzXY5tg</td>\n",
       "      <td>UCvZnwzmc3m1Eush-Or8Z6DA</td>\n",
       "      <td>Using Code and GPT-3 to Learn Faster</td>\n",
       "      <td>Thanks to ProjectPro.io for their support: htt...</td>\n",
       "      <td>[]</td>\n",
       "      <td>True</td>\n",
       "      <td>True</td>\n",
       "      <td>6871</td>\n",
       "      <td>184</td>\n",
       "      <td>23</td>\n",
       "      <td>Shashank Kalanithi</td>\n",
       "      <td>140000</td>\n",
       "      <td>6562136</td>\n",
       "      <td>152</td>\n",
       "      <td>UUvZnwzmc3m1Eush-Or8Z6DA</td>\n",
       "      <td>Education</td>\n",
       "      <td>0 days 00:18:06</td>\n",
       "      <td>2023-02-19 14:00:02</td>\n",
       "      <td>0</td>\n",
       "      <td>36</td>\n",
       "      <td>795</td>\n",
       "      <td>1</td>\n",
       "      <td>336</td>\n",
       "      <td>18</td>\n",
       "    </tr>\n",
       "    <tr>\n",
       "      <th>1</th>\n",
       "      <td>bgVu5WVR9SE</td>\n",
       "      <td>UCvZnwzmc3m1Eush-Or8Z6DA</td>\n",
       "      <td>Data Analyst MENTORSHIP -  Q&amp;A (while I drink ...</td>\n",
       "      <td>⬇️⬇️⬇️Check here prior to asking your question...</td>\n",
       "      <td>[]</td>\n",
       "      <td>True</td>\n",
       "      <td>True</td>\n",
       "      <td>3723</td>\n",
       "      <td>184</td>\n",
       "      <td>9</td>\n",
       "      <td>Shashank Kalanithi</td>\n",
       "      <td>140000</td>\n",
       "      <td>6562136</td>\n",
       "      <td>152</td>\n",
       "      <td>UUvZnwzmc3m1Eush-Or8Z6DA</td>\n",
       "      <td>Education</td>\n",
       "      <td>0 days 00:29:22</td>\n",
       "      <td>2022-11-04 03:32:38</td>\n",
       "      <td>0</td>\n",
       "      <td>53</td>\n",
       "      <td>1475</td>\n",
       "      <td>0</td>\n",
       "      <td>444</td>\n",
       "      <td>29</td>\n",
       "    </tr>\n",
       "  </tbody>\n",
       "</table>\n",
       "</div>"
      ],
      "text/plain": [
       "      video_id                channel_id  \\\n",
       "0  3fqTNzXY5tg  UCvZnwzmc3m1Eush-Or8Z6DA   \n",
       "1  bgVu5WVR9SE  UCvZnwzmc3m1Eush-Or8Z6DA   \n",
       "\n",
       "                                               title  \\\n",
       "0               Using Code and GPT-3 to Learn Faster   \n",
       "1  Data Analyst MENTORSHIP -  Q&A (while I drink ...   \n",
       "\n",
       "                                         description tags  caption  \\\n",
       "0  Thanks to ProjectPro.io for their support: htt...   []     True   \n",
       "1  ⬇️⬇️⬇️Check here prior to asking your question...   []     True   \n",
       "\n",
       "   licensed_content  view_count  like_count  comment_count  \\\n",
       "0              True        6871         184             23   \n",
       "1              True        3723         184              9   \n",
       "\n",
       "         channel_name  subscribers  total_views  total_videos  \\\n",
       "0  Shashank Kalanithi       140000      6562136           152   \n",
       "1  Shashank Kalanithi       140000      6562136           152   \n",
       "\n",
       "                playlist_id   category duration_formatted  \\\n",
       "0  UUvZnwzmc3m1Eush-Or8Z6DA  Education    0 days 00:18:06   \n",
       "1  UUvZnwzmc3m1Eush-Or8Z6DA  Education    0 days 00:29:22   \n",
       "\n",
       "  published_at_formatted  no_of_tags  title_length  description_length  \\\n",
       "0    2023-02-19 14:00:02           0            36                 795   \n",
       "1    2022-11-04 03:32:38           0            53                1475   \n",
       "\n",
       "   target  age  duration_minutes  \n",
       "0       1  336                18  \n",
       "1       0  444                29  "
      ]
     },
     "execution_count": 704,
     "metadata": {},
     "output_type": "execute_result"
    }
   ],
   "source": [
    "df.head(2)"
   ]
  },
  {
   "cell_type": "code",
   "execution_count": 705,
   "metadata": {},
   "outputs": [
    {
     "data": {
      "text/plain": [
       "video_id                           string\n",
       "channel_id                         string\n",
       "title                              string\n",
       "description                        string\n",
       "tags                               object\n",
       "caption                              bool\n",
       "licensed_content                     bool\n",
       "view_count                          int64\n",
       "like_count                          int64\n",
       "comment_count                       int64\n",
       "channel_name                       string\n",
       "subscribers                         int64\n",
       "total_views                         int64\n",
       "total_videos                        int64\n",
       "playlist_id                        string\n",
       "category                           object\n",
       "duration_formatted        timedelta64[ns]\n",
       "published_at_formatted     datetime64[ns]\n",
       "no_of_tags                          int64\n",
       "title_length                        int64\n",
       "description_length                  int64\n",
       "target                              int64\n",
       "age                                 int64\n",
       "duration_minutes                    int64\n",
       "dtype: object"
      ]
     },
     "execution_count": 705,
     "metadata": {},
     "output_type": "execute_result"
    }
   ],
   "source": [
    "df.dtypes"
   ]
  },
  {
   "cell_type": "code",
   "execution_count": 706,
   "metadata": {},
   "outputs": [
    {
     "data": {
      "text/plain": [
       "True    8504\n",
       "Name: caption, dtype: int64"
      ]
     },
     "execution_count": 706,
     "metadata": {},
     "output_type": "execute_result"
    }
   ],
   "source": [
    "df.caption.value_counts()"
   ]
  },
  {
   "cell_type": "code",
   "execution_count": 707,
   "metadata": {},
   "outputs": [
    {
     "data": {
      "text/plain": [
       "True     4448\n",
       "False    4056\n",
       "Name: licensed_content, dtype: int64"
      ]
     },
     "execution_count": 707,
     "metadata": {},
     "output_type": "execute_result"
    }
   ],
   "source": [
    "df.licensed_content.value_counts()"
   ]
  },
  {
   "cell_type": "code",
   "execution_count": 708,
   "metadata": {},
   "outputs": [
    {
     "data": {
      "text/plain": [
       "video_id                           string\n",
       "channel_id                         string\n",
       "title                              string\n",
       "description                        string\n",
       "tags                               object\n",
       "caption                              bool\n",
       "licensed_content                     bool\n",
       "view_count                          int64\n",
       "like_count                          int64\n",
       "comment_count                       int64\n",
       "channel_name                       string\n",
       "subscribers                         int64\n",
       "total_views                         int64\n",
       "total_videos                        int64\n",
       "playlist_id                        string\n",
       "category                           object\n",
       "duration_formatted        timedelta64[ns]\n",
       "published_at_formatted     datetime64[ns]\n",
       "no_of_tags                          int64\n",
       "title_length                        int64\n",
       "description_length                  int64\n",
       "target                              int64\n",
       "age                                 int64\n",
       "duration_minutes                    int64\n",
       "dtype: object"
      ]
     },
     "execution_count": 708,
     "metadata": {},
     "output_type": "execute_result"
    }
   ],
   "source": [
    "df.dtypes"
   ]
  },
  {
   "cell_type": "code",
   "execution_count": 709,
   "metadata": {},
   "outputs": [
    {
     "data": {
      "text/plain": [
       "Index(['video_id', 'channel_id', 'title', 'description', 'tags', 'caption',\n",
       "       'licensed_content', 'view_count', 'like_count', 'comment_count',\n",
       "       'channel_name', 'subscribers', 'total_views', 'total_videos',\n",
       "       'playlist_id', 'category', 'duration_formatted',\n",
       "       'published_at_formatted', 'no_of_tags', 'title_length',\n",
       "       'description_length', 'target', 'age', 'duration_minutes'],\n",
       "      dtype='object')"
      ]
     },
     "execution_count": 709,
     "metadata": {},
     "output_type": "execute_result"
    }
   ],
   "source": [
    "df.columns"
   ]
  },
  {
   "cell_type": "code",
   "execution_count": 710,
   "metadata": {},
   "outputs": [],
   "source": [
    "# select columns for numerical model\n",
    "df = df[['licensed_content', 'subscribers', 'total_views', 'total_videos', 'category', 'no_of_tags', 'title_length',\n",
    "       'description_length', 'target', 'age', 'duration_minutes']]"
   ]
  },
  {
   "cell_type": "markdown",
   "metadata": {},
   "source": [
    "# Train, Test, Split"
   ]
  },
  {
   "cell_type": "code",
   "execution_count": 711,
   "metadata": {},
   "outputs": [],
   "source": [
    "# features\n",
    "X = df.drop(columns=['target'])\n",
    "# target\n",
    "y = df['target']\n",
    "\n",
    "X_train, X_test, y_train, y_test = train_test_split(X, y, test_size=0.2, random_state=21)"
   ]
  },
  {
   "cell_type": "code",
   "execution_count": 712,
   "metadata": {},
   "outputs": [
    {
     "data": {
      "text/plain": [
       "(6803, 10)"
      ]
     },
     "execution_count": 712,
     "metadata": {},
     "output_type": "execute_result"
    }
   ],
   "source": [
    "X_train.shape"
   ]
  },
  {
   "cell_type": "code",
   "execution_count": 713,
   "metadata": {},
   "outputs": [
    {
     "data": {
      "text/plain": [
       "6803"
      ]
     },
     "execution_count": 713,
     "metadata": {},
     "output_type": "execute_result"
    }
   ],
   "source": [
    "(X_train.index == y_train.index).sum()"
   ]
  },
  {
   "cell_type": "markdown",
   "metadata": {},
   "source": [
    "# Feature Engineering"
   ]
  },
  {
   "cell_type": "code",
   "execution_count": 714,
   "metadata": {},
   "outputs": [],
   "source": [
    "# create function to one hot encode the train and test features respectively\n",
    "def ohe(train, test):\n",
    "\n",
    "    # map licensed content to binary for train\n",
    "    train['licensed_map'] = train.licensed_content.apply(lambda x: 1 if x == True else 0)\n",
    "\n",
    "    # map licensed content to binary for test\n",
    "    test['licensed_map'] = test.licensed_content.apply(lambda x: 1 if x == True else 0)\n",
    "\n",
    "    # store unique categories\n",
    "    unique_categories = set()\n",
    "\n",
    "    # iterate through unique categories\n",
    "    for category in train['category']:\n",
    "        unique_categories.add(category)\n",
    "\n",
    "    # sort unique categories alphabetically\n",
    "    unique_categories = sorted(unique_categories)\n",
    "\n",
    "    # create a binary mapping of all unique categories in train\n",
    "    for column in unique_categories:\n",
    "        train[column] = train['category'].apply(lambda x: 1 if column == x else 0)\n",
    "\n",
    "    # create a binary mapping of all unique categories in test\n",
    "    for column in unique_categories:\n",
    "        test[column] = test['category'].apply(lambda x: 1 if column == x else 0)\n",
    "    \n",
    "    # drop columns\n",
    "    train.drop(columns=['category', 'licensed_content'], inplace=True)\n",
    "    test.drop(columns=['category', 'licensed_content'], inplace=True)\n",
    "\n",
    "    return train, test\n",
    "    "
   ]
  },
  {
   "cell_type": "code",
   "execution_count": 715,
   "metadata": {},
   "outputs": [],
   "source": [
    "def rob_scaler(train, test, target_train, target_test, columns_to_scale, other_columns):\n",
    "\n",
    "    # train\n",
    "    train_scale = train[columns_to_scale] ## columns to scale\n",
    "    train_not_scale = train[other_columns] ## remaining columns\n",
    "\n",
    "    rob = RobustScaler() ## scaler object\n",
    "    rob.fit(train_scale) ## fit the scaler with train data\n",
    "\n",
    "    train_rob = pd.DataFrame(rob.transform(train_scale), columns=train_scale.columns) ## create df with transformed training data\n",
    "\n",
    "    train_not_scale.reset_index(drop=True, inplace=True) ## Reset X_train index\n",
    "    target_train.reset_index(drop=True, inplace=True) ## Reset y_train index\n",
    "\n",
    "    train_fe_rob = pd.concat([train_not_scale, train_rob], axis=1) ## concatenate scaled data with remaining columns\n",
    "\n",
    "    # test\n",
    "    test_scale = test[columns_to_scale] ## columns to scale\n",
    "    test_not_scale = test[other_columns] ## remaining columns\n",
    "\n",
    "    test_rob = pd.DataFrame(rob.transform(test_scale), columns=test_scale.columns) ## create df with transformed test data\n",
    "\n",
    "    test_not_scale.reset_index(drop=True, inplace=True) ## Reset X_test index\n",
    "    target_test.reset_index(drop=True, inplace=True) ## Reset y_test index\n",
    "\n",
    "    test_fe_rob = pd.concat([test_not_scale, test_rob], axis=1) ## concatenate scaled data with remaining columns\n",
    "\n",
    "    return train_fe_rob, test_fe_rob, target_train, target_test"
   ]
  },
  {
   "cell_type": "code",
   "execution_count": 716,
   "metadata": {},
   "outputs": [],
   "source": [
    "# list of numerical columns to scale\n",
    "scale_columns = ['subscribers', 'total_views', 'total_videos', 'no_of_tags', 'title_length', 'description_length', 'age', 'duration_minutes']\n",
    "\n",
    "# list of remaining columns\n",
    "non_scale_columns = ['licensed_map', 'Education', 'Entertainment', 'Film & Animation', 'Gaming','Howto & Style',\n",
    "                      'Music', 'People & Blogs', 'Science & Technology', 'Sports', 'Travel & Events']"
   ]
  },
  {
   "cell_type": "code",
   "execution_count": 717,
   "metadata": {},
   "outputs": [],
   "source": [
    "# one hot encode / map selected categorical features\n",
    "X_train_fe, X_test_fe = ohe(X_train, X_test)"
   ]
  },
  {
   "cell_type": "code",
   "execution_count": 718,
   "metadata": {},
   "outputs": [],
   "source": [
    "# scale selected continuous features\n",
    "X_train_fe_rob, X_test_fe_rob, y_train_fe, y_test_fe = rob_scaler(X_train_fe, X_test_fe, y_train, y_test, scale_columns, non_scale_columns)"
   ]
  },
  {
   "cell_type": "markdown",
   "metadata": {},
   "source": [
    "# Modelling"
   ]
  },
  {
   "cell_type": "code",
   "execution_count": 719,
   "metadata": {},
   "outputs": [
    {
     "data": {
      "text/html": [
       "<style>#sk-container-id-6 {color: black;background-color: white;}#sk-container-id-6 pre{padding: 0;}#sk-container-id-6 div.sk-toggleable {background-color: white;}#sk-container-id-6 label.sk-toggleable__label {cursor: pointer;display: block;width: 100%;margin-bottom: 0;padding: 0.3em;box-sizing: border-box;text-align: center;}#sk-container-id-6 label.sk-toggleable__label-arrow:before {content: \"▸\";float: left;margin-right: 0.25em;color: #696969;}#sk-container-id-6 label.sk-toggleable__label-arrow:hover:before {color: black;}#sk-container-id-6 div.sk-estimator:hover label.sk-toggleable__label-arrow:before {color: black;}#sk-container-id-6 div.sk-toggleable__content {max-height: 0;max-width: 0;overflow: hidden;text-align: left;background-color: #f0f8ff;}#sk-container-id-6 div.sk-toggleable__content pre {margin: 0.2em;color: black;border-radius: 0.25em;background-color: #f0f8ff;}#sk-container-id-6 input.sk-toggleable__control:checked~div.sk-toggleable__content {max-height: 200px;max-width: 100%;overflow: auto;}#sk-container-id-6 input.sk-toggleable__control:checked~label.sk-toggleable__label-arrow:before {content: \"▾\";}#sk-container-id-6 div.sk-estimator input.sk-toggleable__control:checked~label.sk-toggleable__label {background-color: #d4ebff;}#sk-container-id-6 div.sk-label input.sk-toggleable__control:checked~label.sk-toggleable__label {background-color: #d4ebff;}#sk-container-id-6 input.sk-hidden--visually {border: 0;clip: rect(1px 1px 1px 1px);clip: rect(1px, 1px, 1px, 1px);height: 1px;margin: -1px;overflow: hidden;padding: 0;position: absolute;width: 1px;}#sk-container-id-6 div.sk-estimator {font-family: monospace;background-color: #f0f8ff;border: 1px dotted black;border-radius: 0.25em;box-sizing: border-box;margin-bottom: 0.5em;}#sk-container-id-6 div.sk-estimator:hover {background-color: #d4ebff;}#sk-container-id-6 div.sk-parallel-item::after {content: \"\";width: 100%;border-bottom: 1px solid gray;flex-grow: 1;}#sk-container-id-6 div.sk-label:hover label.sk-toggleable__label {background-color: #d4ebff;}#sk-container-id-6 div.sk-serial::before {content: \"\";position: absolute;border-left: 1px solid gray;box-sizing: border-box;top: 0;bottom: 0;left: 50%;z-index: 0;}#sk-container-id-6 div.sk-serial {display: flex;flex-direction: column;align-items: center;background-color: white;padding-right: 0.2em;padding-left: 0.2em;position: relative;}#sk-container-id-6 div.sk-item {position: relative;z-index: 1;}#sk-container-id-6 div.sk-parallel {display: flex;align-items: stretch;justify-content: center;background-color: white;position: relative;}#sk-container-id-6 div.sk-item::before, #sk-container-id-6 div.sk-parallel-item::before {content: \"\";position: absolute;border-left: 1px solid gray;box-sizing: border-box;top: 0;bottom: 0;left: 50%;z-index: -1;}#sk-container-id-6 div.sk-parallel-item {display: flex;flex-direction: column;z-index: 1;position: relative;background-color: white;}#sk-container-id-6 div.sk-parallel-item:first-child::after {align-self: flex-end;width: 50%;}#sk-container-id-6 div.sk-parallel-item:last-child::after {align-self: flex-start;width: 50%;}#sk-container-id-6 div.sk-parallel-item:only-child::after {width: 0;}#sk-container-id-6 div.sk-dashed-wrapped {border: 1px dashed gray;margin: 0 0.4em 0.5em 0.4em;box-sizing: border-box;padding-bottom: 0.4em;background-color: white;}#sk-container-id-6 div.sk-label label {font-family: monospace;font-weight: bold;display: inline-block;line-height: 1.2em;}#sk-container-id-6 div.sk-label-container {text-align: center;}#sk-container-id-6 div.sk-container {/* jupyter's `normalize.less` sets `[hidden] { display: none; }` but bootstrap.min.css set `[hidden] { display: none !important; }` so we also need the `!important` here to be able to override the default hidden behavior on the sphinx rendered scikit-learn.org. See: https://github.com/scikit-learn/scikit-learn/issues/21755 */display: inline-block !important;position: relative;}#sk-container-id-6 div.sk-text-repr-fallback {display: none;}</style><div id=\"sk-container-id-6\" class=\"sk-top-container\"><div class=\"sk-text-repr-fallback\"><pre>LogisticRegression(max_iter=1000)</pre><b>In a Jupyter environment, please rerun this cell to show the HTML representation or trust the notebook. <br />On GitHub, the HTML representation is unable to render, please try loading this page with nbviewer.org.</b></div><div class=\"sk-container\" hidden><div class=\"sk-item\"><div class=\"sk-estimator sk-toggleable\"><input class=\"sk-toggleable__control sk-hidden--visually\" id=\"sk-estimator-id-6\" type=\"checkbox\" checked><label for=\"sk-estimator-id-6\" class=\"sk-toggleable__label sk-toggleable__label-arrow\">LogisticRegression</label><div class=\"sk-toggleable__content\"><pre>LogisticRegression(max_iter=1000)</pre></div></div></div></div></div>"
      ],
      "text/plain": [
       "LogisticRegression(max_iter=1000)"
      ]
     },
     "execution_count": 719,
     "metadata": {},
     "output_type": "execute_result"
    }
   ],
   "source": [
    "# create model object\n",
    "lr = LogisticRegression(max_iter=1000)\n",
    "# fit model with training data\n",
    "lr.fit(X_train_fe_rob, y_train)"
   ]
  },
  {
   "cell_type": "code",
   "execution_count": 720,
   "metadata": {},
   "outputs": [],
   "source": [
    "# function to calculate the accuracy, precision and recall\n",
    "def apr(y_pred, y_real):       \n",
    "    \n",
    "    \"\"\" Calculates accuracy, precision, recall\n",
    "        Requires predicted value first, and then the real value\n",
    "    \"\"\"\n",
    "    accuracy = metrics.accuracy_score(y_real, y_pred)\n",
    "    precision = metrics.precision_score(y_real, y_pred)\n",
    "    recall = metrics.recall_score(y_real, y_pred)\n",
    "    f1 = metrics.f1_score(y_real, y_pred)\n",
    "\n",
    "    print(f\"Accuracy:{accuracy}\")\n",
    "    print(f\"Precision:{precision}\")\n",
    "    print(f\"Recall:{recall}\")\n",
    "    print(f\"F1:{f1}\")"
   ]
  },
  {
   "cell_type": "code",
   "execution_count": 721,
   "metadata": {},
   "outputs": [
    {
     "name": "stdout",
     "output_type": "stream",
     "text": [
      "Accuracy:0.7674555343230928\n",
      "Precision:0.7831927522649172\n",
      "Recall:0.738438880706922\n",
      "F1:0.7601576713159491\n"
     ]
    }
   ],
   "source": [
    "# predict on train data\n",
    "y_train_pred = lr.predict(X_train_fe_rob)\n",
    "\n",
    "# check train data metric scores\n",
    "apr(y_train_pred, y_train)"
   ]
  },
  {
   "cell_type": "code",
   "execution_count": 722,
   "metadata": {},
   "outputs": [
    {
     "name": "stdout",
     "output_type": "stream",
     "text": [
      "Accuracy:0.7677836566725456\n",
      "Precision:0.7785888077858881\n",
      "Recall:0.7502930832356389\n",
      "F1:0.7641791044776121\n"
     ]
    }
   ],
   "source": [
    "# predict on test data\n",
    "y_test_pred = lr.predict(X_test_fe_rob)\n",
    "\n",
    "# check test data metric scores\n",
    "apr(y_test_pred, y_test)"
   ]
  },
  {
   "cell_type": "markdown",
   "metadata": {},
   "source": [
    "# Pickle Model"
   ]
  },
  {
   "cell_type": "code",
   "execution_count": 723,
   "metadata": {},
   "outputs": [],
   "source": [
    "with open ('numerical_data_model.pkl', 'wb') as file:\n",
    "    pickle.dump(lr, file)"
   ]
  }
 ],
 "metadata": {
  "kernelspec": {
   "display_name": "base",
   "language": "python",
   "name": "python3"
  },
  "language_info": {
   "codemirror_mode": {
    "name": "ipython",
    "version": 3
   },
   "file_extension": ".py",
   "mimetype": "text/x-python",
   "name": "python",
   "nbconvert_exporter": "python",
   "pygments_lexer": "ipython3",
   "version": "3.10.9"
  }
 },
 "nbformat": 4,
 "nbformat_minor": 2
}

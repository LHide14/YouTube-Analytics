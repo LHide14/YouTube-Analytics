{
 "cells": [
  {
   "cell_type": "markdown",
   "metadata": {},
   "source": [
    "# Importing Libraries"
   ]
  },
  {
   "cell_type": "code",
   "execution_count": 361,
   "metadata": {},
   "outputs": [],
   "source": [
    "import pandas as pd\n",
    "import numpy as np\n",
    "import pickle\n",
    "\n",
    "from sklearn.ensemble import VotingClassifier\n",
    "from sklearn.feature_extraction.text import TfidfVectorizer\n",
    "from sklearn.preprocessing import RobustScaler\n",
    "from sklearn.model_selection import train_test_split\n",
    "from sklearn.model_selection import cross_validate\n",
    "from sklearn.metrics import make_scorer, accuracy_score, precision_score, recall_score, f1_score"
   ]
  },
  {
   "cell_type": "markdown",
   "metadata": {},
   "source": [
    "# Import Data"
   ]
  },
  {
   "cell_type": "code",
   "execution_count": 362,
   "metadata": {},
   "outputs": [],
   "source": [
    "with open('new_eda_data.pkl', 'rb') as file:\n",
    "    df = pickle.load(file)"
   ]
  },
  {
   "cell_type": "code",
   "execution_count": 363,
   "metadata": {},
   "outputs": [],
   "source": [
    "# adjust display options to show all columns\n",
    "pd.set_option('display.max_columns', None)"
   ]
  },
  {
   "cell_type": "code",
   "execution_count": 364,
   "metadata": {},
   "outputs": [],
   "source": [
    "df.reset_index(drop=True, inplace=True)"
   ]
  },
  {
   "cell_type": "code",
   "execution_count": 365,
   "metadata": {},
   "outputs": [
    {
     "data": {
      "text/plain": [
       "(8504, 24)"
      ]
     },
     "execution_count": 365,
     "metadata": {},
     "output_type": "execute_result"
    }
   ],
   "source": [
    "df.shape"
   ]
  },
  {
   "cell_type": "markdown",
   "metadata": {},
   "source": [
    "# Import Models"
   ]
  },
  {
   "cell_type": "code",
   "execution_count": 366,
   "metadata": {},
   "outputs": [],
   "source": [
    "# import nlp with logreg model for title column\n",
    "with open('nlp_title_model.pkl', 'rb') as file:\n",
    "    nlp_title_model = pickle.load(file)"
   ]
  },
  {
   "cell_type": "code",
   "execution_count": 367,
   "metadata": {},
   "outputs": [],
   "source": [
    "# import nlp with logreg model for description column\n",
    "with open('nlp_description_model.pkl', 'rb') as file:\n",
    "    nlp_description_model = pickle.load(file)"
   ]
  },
  {
   "cell_type": "code",
   "execution_count": 368,
   "metadata": {},
   "outputs": [],
   "source": [
    "# import logreg model for numerical columns\n",
    "with open('numerical_data_model.pkl', 'rb') as file:\n",
    "    numerical_data_model = pickle.load(file)"
   ]
  },
  {
   "cell_type": "code",
   "execution_count": 369,
   "metadata": {},
   "outputs": [],
   "source": [
    "# import rf classifier model for numerical columns\n",
    "with open('numerical_rf.pkl', 'rb') as file:\n",
    "    num_rf = pickle.load(file)"
   ]
  },
  {
   "cell_type": "code",
   "execution_count": 370,
   "metadata": {},
   "outputs": [],
   "source": [
    "# import nlp with ensemble(nb multinomial, nb bernoulli, logreg) model for title column\n",
    "with open('ensemble_title_model.pkl', 'rb') as file:\n",
    "    ensemble_title = pickle.load(file)"
   ]
  },
  {
   "cell_type": "code",
   "execution_count": 371,
   "metadata": {},
   "outputs": [],
   "source": [
    "# training data for title column ensemble model\n",
    "with open('ensemble_title_train.pkl', 'rb') as file:\n",
    "    ensemble_title_train = pickle.load(file)"
   ]
  },
  {
   "cell_type": "code",
   "execution_count": 372,
   "metadata": {},
   "outputs": [],
   "source": [
    "# test data for title column ensemble model\n",
    "with open('ensemble_title_test.pkl', 'rb') as file:\n",
    "    ensemble_title_test = pickle.load(file)"
   ]
  },
  {
   "cell_type": "markdown",
   "metadata": {},
   "source": [
    "# Train, Test, Split & Feature Engineering"
   ]
  },
  {
   "cell_type": "markdown",
   "metadata": {},
   "source": [
    "### y_train and y_test for Ensemble"
   ]
  },
  {
   "cell_type": "code",
   "execution_count": 373,
   "metadata": {},
   "outputs": [],
   "source": [
    "# seperate feature and target columns\n",
    "X = df.drop(columns=['target'])\n",
    "\n",
    "y = df['target']\n",
    "\n",
    "_, _, y_train, y_test = train_test_split(X, y, test_size=0.2, random_state=21)"
   ]
  },
  {
   "cell_type": "markdown",
   "metadata": {},
   "source": [
    "### Title"
   ]
  },
  {
   "cell_type": "code",
   "execution_count": 374,
   "metadata": {},
   "outputs": [],
   "source": [
    "# seperate feature and target columns\n",
    "X_title = df['title']\n",
    "\n",
    "y_title = df['target']\n",
    "\n",
    "X_train_title, X_test_title, y_train_title, y_test_title = train_test_split(X_title, y_title, test_size=0.2, random_state=21)"
   ]
  },
  {
   "cell_type": "code",
   "execution_count": 375,
   "metadata": {},
   "outputs": [
    {
     "data": {
      "text/plain": [
       "(6803,)"
      ]
     },
     "execution_count": 375,
     "metadata": {},
     "output_type": "execute_result"
    }
   ],
   "source": [
    "X_train_title.shape"
   ]
  },
  {
   "cell_type": "code",
   "execution_count": 376,
   "metadata": {},
   "outputs": [
    {
     "data": {
      "text/plain": [
       "6803"
      ]
     },
     "execution_count": 376,
     "metadata": {},
     "output_type": "execute_result"
    }
   ],
   "source": [
    "# check index between X_test and y_test match\n",
    "(X_train_title.index == y_train_title.index).sum()"
   ]
  },
  {
   "cell_type": "code",
   "execution_count": 377,
   "metadata": {},
   "outputs": [],
   "source": [
    "# create vectorizer object\n",
    "vectorizer_title = TfidfVectorizer(stop_words='english', lowercase=True, max_features=449)\n",
    "\n",
    "# fit vectorizer with training data\n",
    "vectorizer_title.fit(X_train_title)\n",
    "\n",
    "# transform train data\n",
    "X_train_vec_title = vectorizer_title.transform(X_train_title)\n",
    "\n",
    "# transform test data\n",
    "X_test_vec_title = vectorizer_title.transform(X_test_title)"
   ]
  },
  {
   "cell_type": "markdown",
   "metadata": {},
   "source": [
    "### Description"
   ]
  },
  {
   "cell_type": "code",
   "execution_count": 378,
   "metadata": {},
   "outputs": [],
   "source": [
    "# seperate feature and target columns\n",
    "X_description = df['description']\n",
    "\n",
    "y_description = df['target']\n",
    "\n",
    "X_train_description, X_test_description, y_train_description, y_test_description = train_test_split(X_description, y_description, test_size=0.2, random_state=21)"
   ]
  },
  {
   "cell_type": "code",
   "execution_count": 379,
   "metadata": {},
   "outputs": [
    {
     "data": {
      "text/plain": [
       "(6803,)"
      ]
     },
     "execution_count": 379,
     "metadata": {},
     "output_type": "execute_result"
    }
   ],
   "source": [
    "X_train_description.shape"
   ]
  },
  {
   "cell_type": "code",
   "execution_count": 380,
   "metadata": {},
   "outputs": [
    {
     "data": {
      "text/plain": [
       "6803"
      ]
     },
     "execution_count": 380,
     "metadata": {},
     "output_type": "execute_result"
    }
   ],
   "source": [
    "# check index between X_train and y_train match\n",
    "(X_train_description.index == y_train_description.index).sum()"
   ]
  },
  {
   "cell_type": "code",
   "execution_count": 381,
   "metadata": {},
   "outputs": [],
   "source": [
    "# create vectorizer object\n",
    "vectorizer_description = TfidfVectorizer(stop_words='english', lowercase=True, max_features=931)\n",
    "\n",
    "# fit vectorizer with training data\n",
    "vectorizer_description.fit(X_train_description)\n",
    "\n",
    "# transform train data\n",
    "X_train_vec_des = vectorizer_description.transform(X_train_description)\n",
    "\n",
    "# transform test data\n",
    "X_test_vec_des = vectorizer_description.transform(X_test_description)"
   ]
  },
  {
   "cell_type": "markdown",
   "metadata": {},
   "source": [
    "### Numerical Data"
   ]
  },
  {
   "cell_type": "code",
   "execution_count": 382,
   "metadata": {},
   "outputs": [],
   "source": [
    "# select columns for numerical model\n",
    "df_numerical = df[['licensed_content', 'subscribers', 'total_views', 'total_videos', 'category', 'no_of_tags', 'title_length',\n",
    "       'description_length', 'target', 'age', 'duration_minutes']]"
   ]
  },
  {
   "cell_type": "code",
   "execution_count": 383,
   "metadata": {},
   "outputs": [],
   "source": [
    "# seperate features and target columns\n",
    "X_numerical = df.drop(columns=['target'])\n",
    "\n",
    "y_numerical = df['target']\n",
    "\n",
    "X_train_numerical, X_test_numerical, y_train_numerical, y_test_numerical = train_test_split(X_numerical, y_numerical, test_size=0.2, random_state=21)"
   ]
  },
  {
   "cell_type": "code",
   "execution_count": 384,
   "metadata": {},
   "outputs": [
    {
     "data": {
      "text/plain": [
       "(6803, 23)"
      ]
     },
     "execution_count": 384,
     "metadata": {},
     "output_type": "execute_result"
    }
   ],
   "source": [
    "X_train_numerical.shape"
   ]
  },
  {
   "cell_type": "code",
   "execution_count": 385,
   "metadata": {},
   "outputs": [
    {
     "data": {
      "text/plain": [
       "6803"
      ]
     },
     "execution_count": 385,
     "metadata": {},
     "output_type": "execute_result"
    }
   ],
   "source": [
    "(X_train_numerical.index == y_train_numerical.index).sum()"
   ]
  },
  {
   "cell_type": "code",
   "execution_count": 386,
   "metadata": {},
   "outputs": [],
   "source": [
    "# create function to one hot encode the train and test features respectively\n",
    "def ohe(train, test):\n",
    "\n",
    "    # map licensed content to binary for train\n",
    "    train['licensed_map'] = train.licensed_content.apply(lambda x: 1 if x == True else 0)\n",
    "\n",
    "    # map licensed content to binary for test\n",
    "    test['licensed_map'] = test.licensed_content.apply(lambda x: 1 if x == True else 0)\n",
    "\n",
    "    # store unique categories\n",
    "    unique_categories = set()\n",
    "\n",
    "    # iterate through unique categories\n",
    "    for category in train['category']:\n",
    "        unique_categories.add(category)\n",
    "\n",
    "    # sort unique categories alphabetically\n",
    "    unique_categories = sorted(unique_categories)\n",
    "\n",
    "    # create a binary mapping of all unique categories in train\n",
    "    for column in unique_categories:\n",
    "        train[column] = train['category'].apply(lambda x: 1 if column == x else 0)\n",
    "\n",
    "    # create a binary mapping of all unique categories in test\n",
    "    for column in unique_categories:\n",
    "        test[column] = test['category'].apply(lambda x: 1 if column == x else 0)\n",
    "    \n",
    "    # drop columns\n",
    "    train.drop(columns=['category', 'licensed_content'], inplace=True)\n",
    "    test.drop(columns=['category', 'licensed_content'], inplace=True)\n",
    "\n",
    "    return train, test"
   ]
  },
  {
   "cell_type": "code",
   "execution_count": 387,
   "metadata": {},
   "outputs": [],
   "source": [
    "def rob_scaler(train, test, target_train, target_test, columns_to_scale, other_columns):\n",
    "\n",
    "    # train\n",
    "    train_scale = train[columns_to_scale] ## columns to scale\n",
    "    train_not_scale = train[other_columns] ## remaining columns\n",
    "\n",
    "    rob = RobustScaler() ## scaler object\n",
    "    rob.fit(train_scale) ## fit the scaler with train data\n",
    "\n",
    "    train_rob = pd.DataFrame(rob.transform(train_scale), columns=train_scale.columns) ## create df with transformed training data\n",
    "\n",
    "    train_not_scale.reset_index(drop=True, inplace=True) ## Reset X_train index\n",
    "    target_train.reset_index(drop=True, inplace=True) ## Reset y_train index\n",
    "\n",
    "    train_fe_rob = pd.concat([train_not_scale, train_rob], axis=1) ## concatenate scaled data with remaining columns\n",
    "\n",
    "    # test\n",
    "    test_scale = test[columns_to_scale] ## columns to scale\n",
    "    test_not_scale = test[other_columns] ## remaining columns\n",
    "\n",
    "    test_rob = pd.DataFrame(rob.transform(test_scale), columns=test_scale.columns) ## create df with transformed test data\n",
    "\n",
    "    test_not_scale.reset_index(drop=True, inplace=True) ## Reset X_test index\n",
    "    target_test.reset_index(drop=True, inplace=True) ## Reset y_test index\n",
    "\n",
    "    test_fe_rob = pd.concat([test_not_scale, test_rob], axis=1) ## concatenate scaled data with remaining columns\n",
    "\n",
    "    return train_fe_rob, test_fe_rob, target_train, target_test"
   ]
  },
  {
   "cell_type": "code",
   "execution_count": 388,
   "metadata": {},
   "outputs": [],
   "source": [
    "# list of numerical columns to scale\n",
    "scale_columns = ['subscribers', 'total_views', 'total_videos', 'no_of_tags', 'title_length', 'description_length', 'age', 'duration_minutes']\n",
    "\n",
    "# list of remaining columns\n",
    "non_scale_columns = ['licensed_map', 'Education', 'Entertainment', 'Film & Animation', 'Gaming','Howto & Style',\n",
    "                     'Music', 'People & Blogs', 'Science & Technology', 'Sports', 'Travel & Events']"
   ]
  },
  {
   "cell_type": "code",
   "execution_count": 389,
   "metadata": {},
   "outputs": [],
   "source": [
    "# one hot encode / map selected categorical features\n",
    "X_train_fe, X_test_fe = ohe(X_train_numerical, X_test_numerical)"
   ]
  },
  {
   "cell_type": "code",
   "execution_count": 390,
   "metadata": {},
   "outputs": [],
   "source": [
    "# scale selected continuous features\n",
    "X_train_fe_rob, X_test_fe_rob, y_train_fe, y_test_fe = rob_scaler(X_train_fe, X_test_fe, y_train_numerical, y_test_numerical, scale_columns, non_scale_columns)"
   ]
  },
  {
   "cell_type": "markdown",
   "metadata": {},
   "source": [
    "# Ensemble Modelling"
   ]
  },
  {
   "cell_type": "code",
   "execution_count": 391,
   "metadata": {},
   "outputs": [],
   "source": [
    "# function to calculate the accuracy, precision and recall\n",
    "def apr(y_pred, y_real):       \n",
    "    \n",
    "    \"\"\" Calculates accuracy, precision, recall\n",
    "        Requires predicted value first, and then the real value\n",
    "    \"\"\"\n",
    "    accuracy = accuracy_score(y_real, y_pred)\n",
    "    precision = precision_score(y_real, y_pred)\n",
    "    recall = recall_score(y_real, y_pred)\n",
    "    f1 = f1_score(y_real, y_pred)\n",
    "\n",
    "    print(f\"Accuracy:{accuracy}\")\n",
    "    print(f\"Precision:{precision}\")\n",
    "    print(f\"Recall:{recall}\")\n",
    "    print(f\"F1:{f1}\")"
   ]
  },
  {
   "cell_type": "code",
   "execution_count": 392,
   "metadata": {},
   "outputs": [],
   "source": [
    "# function to calculate cross-validation scoring for all discrete metrics\n",
    "def cv_scorer(model, X_train, X_test, y_train, y_test):\n",
    "\n",
    "    # define the scoring functions\n",
    "    scoring = {\n",
    "        'accuracy': make_scorer(accuracy_score),\n",
    "        'precision': make_scorer(precision_score),\n",
    "        'recall': make_scorer(recall_score),\n",
    "        'f1': make_scorer(f1_score)\n",
    "    }\n",
    "\n",
    "    # concat train and test splits back for cross-validation\n",
    "    X_all = pd.concat([X_train, X_test])\n",
    "\n",
    "    y_all = pd.concat([y_train, y_test])\n",
    "\n",
    "    # perform cross-validation\n",
    "    cv_results = cross_validate(model, X_all, y_all, cv=5, scoring=scoring)\n",
    "\n",
    "    # calculate mean scores across cross-validation folds\n",
    "    accuracy_mean = cv_results['test_accuracy'].mean()\n",
    "    precision_mean = cv_results['test_precision'].mean()\n",
    "    recall_mean = cv_results['test_recall'].mean()\n",
    "    f1_mean = cv_results['test_f1'].mean()\n",
    "\n",
    "    # print mean scores\n",
    "    print(f'Mean Accuracy: {accuracy_mean}')\n",
    "    print(f'Mean Precision: {precision_mean}')\n",
    "    print(f'Mean Recall: {recall_mean}')\n",
    "    print(f'Mean F1: {f1_mean}')"
   ]
  },
  {
   "cell_type": "code",
   "execution_count": 393,
   "metadata": {},
   "outputs": [
    {
     "data": {
      "text/html": [
       "<style>#sk-container-id-31 {color: black;background-color: white;}#sk-container-id-31 pre{padding: 0;}#sk-container-id-31 div.sk-toggleable {background-color: white;}#sk-container-id-31 label.sk-toggleable__label {cursor: pointer;display: block;width: 100%;margin-bottom: 0;padding: 0.3em;box-sizing: border-box;text-align: center;}#sk-container-id-31 label.sk-toggleable__label-arrow:before {content: \"▸\";float: left;margin-right: 0.25em;color: #696969;}#sk-container-id-31 label.sk-toggleable__label-arrow:hover:before {color: black;}#sk-container-id-31 div.sk-estimator:hover label.sk-toggleable__label-arrow:before {color: black;}#sk-container-id-31 div.sk-toggleable__content {max-height: 0;max-width: 0;overflow: hidden;text-align: left;background-color: #f0f8ff;}#sk-container-id-31 div.sk-toggleable__content pre {margin: 0.2em;color: black;border-radius: 0.25em;background-color: #f0f8ff;}#sk-container-id-31 input.sk-toggleable__control:checked~div.sk-toggleable__content {max-height: 200px;max-width: 100%;overflow: auto;}#sk-container-id-31 input.sk-toggleable__control:checked~label.sk-toggleable__label-arrow:before {content: \"▾\";}#sk-container-id-31 div.sk-estimator input.sk-toggleable__control:checked~label.sk-toggleable__label {background-color: #d4ebff;}#sk-container-id-31 div.sk-label input.sk-toggleable__control:checked~label.sk-toggleable__label {background-color: #d4ebff;}#sk-container-id-31 input.sk-hidden--visually {border: 0;clip: rect(1px 1px 1px 1px);clip: rect(1px, 1px, 1px, 1px);height: 1px;margin: -1px;overflow: hidden;padding: 0;position: absolute;width: 1px;}#sk-container-id-31 div.sk-estimator {font-family: monospace;background-color: #f0f8ff;border: 1px dotted black;border-radius: 0.25em;box-sizing: border-box;margin-bottom: 0.5em;}#sk-container-id-31 div.sk-estimator:hover {background-color: #d4ebff;}#sk-container-id-31 div.sk-parallel-item::after {content: \"\";width: 100%;border-bottom: 1px solid gray;flex-grow: 1;}#sk-container-id-31 div.sk-label:hover label.sk-toggleable__label {background-color: #d4ebff;}#sk-container-id-31 div.sk-serial::before {content: \"\";position: absolute;border-left: 1px solid gray;box-sizing: border-box;top: 0;bottom: 0;left: 50%;z-index: 0;}#sk-container-id-31 div.sk-serial {display: flex;flex-direction: column;align-items: center;background-color: white;padding-right: 0.2em;padding-left: 0.2em;position: relative;}#sk-container-id-31 div.sk-item {position: relative;z-index: 1;}#sk-container-id-31 div.sk-parallel {display: flex;align-items: stretch;justify-content: center;background-color: white;position: relative;}#sk-container-id-31 div.sk-item::before, #sk-container-id-31 div.sk-parallel-item::before {content: \"\";position: absolute;border-left: 1px solid gray;box-sizing: border-box;top: 0;bottom: 0;left: 50%;z-index: -1;}#sk-container-id-31 div.sk-parallel-item {display: flex;flex-direction: column;z-index: 1;position: relative;background-color: white;}#sk-container-id-31 div.sk-parallel-item:first-child::after {align-self: flex-end;width: 50%;}#sk-container-id-31 div.sk-parallel-item:last-child::after {align-self: flex-start;width: 50%;}#sk-container-id-31 div.sk-parallel-item:only-child::after {width: 0;}#sk-container-id-31 div.sk-dashed-wrapped {border: 1px dashed gray;margin: 0 0.4em 0.5em 0.4em;box-sizing: border-box;padding-bottom: 0.4em;background-color: white;}#sk-container-id-31 div.sk-label label {font-family: monospace;font-weight: bold;display: inline-block;line-height: 1.2em;}#sk-container-id-31 div.sk-label-container {text-align: center;}#sk-container-id-31 div.sk-container {/* jupyter's `normalize.less` sets `[hidden] { display: none; }` but bootstrap.min.css set `[hidden] { display: none !important; }` so we also need the `!important` here to be able to override the default hidden behavior on the sphinx rendered scikit-learn.org. See: https://github.com/scikit-learn/scikit-learn/issues/21755 */display: inline-block !important;position: relative;}#sk-container-id-31 div.sk-text-repr-fallback {display: none;}</style><div id=\"sk-container-id-31\" class=\"sk-top-container\"><div class=\"sk-text-repr-fallback\"><pre>VotingClassifier(estimators=[(&#x27;nlp_model1&#x27;, LogisticRegression()),\n",
       "                             (&#x27;nlp_model2&#x27;, LogisticRegression()),\n",
       "                             (&#x27;numeric_model&#x27;,\n",
       "                              LogisticRegression(max_iter=1000))],\n",
       "                 voting=&#x27;soft&#x27;)</pre><b>In a Jupyter environment, please rerun this cell to show the HTML representation or trust the notebook. <br />On GitHub, the HTML representation is unable to render, please try loading this page with nbviewer.org.</b></div><div class=\"sk-container\" hidden><div class=\"sk-item sk-dashed-wrapped\"><div class=\"sk-label-container\"><div class=\"sk-label sk-toggleable\"><input class=\"sk-toggleable__control sk-hidden--visually\" id=\"sk-estimator-id-137\" type=\"checkbox\" ><label for=\"sk-estimator-id-137\" class=\"sk-toggleable__label sk-toggleable__label-arrow\">VotingClassifier</label><div class=\"sk-toggleable__content\"><pre>VotingClassifier(estimators=[(&#x27;nlp_model1&#x27;, LogisticRegression()),\n",
       "                             (&#x27;nlp_model2&#x27;, LogisticRegression()),\n",
       "                             (&#x27;numeric_model&#x27;,\n",
       "                              LogisticRegression(max_iter=1000))],\n",
       "                 voting=&#x27;soft&#x27;)</pre></div></div></div><div class=\"sk-parallel\"><div class=\"sk-parallel-item\"><div class=\"sk-item\"><div class=\"sk-label-container\"><div class=\"sk-label sk-toggleable\"><label>nlp_model1</label></div></div><div class=\"sk-serial\"><div class=\"sk-item\"><div class=\"sk-estimator sk-toggleable\"><input class=\"sk-toggleable__control sk-hidden--visually\" id=\"sk-estimator-id-138\" type=\"checkbox\" ><label for=\"sk-estimator-id-138\" class=\"sk-toggleable__label sk-toggleable__label-arrow\">LogisticRegression</label><div class=\"sk-toggleable__content\"><pre>LogisticRegression()</pre></div></div></div></div></div></div><div class=\"sk-parallel-item\"><div class=\"sk-item\"><div class=\"sk-label-container\"><div class=\"sk-label sk-toggleable\"><label>nlp_model2</label></div></div><div class=\"sk-serial\"><div class=\"sk-item\"><div class=\"sk-estimator sk-toggleable\"><input class=\"sk-toggleable__control sk-hidden--visually\" id=\"sk-estimator-id-139\" type=\"checkbox\" ><label for=\"sk-estimator-id-139\" class=\"sk-toggleable__label sk-toggleable__label-arrow\">LogisticRegression</label><div class=\"sk-toggleable__content\"><pre>LogisticRegression()</pre></div></div></div></div></div></div><div class=\"sk-parallel-item\"><div class=\"sk-item\"><div class=\"sk-label-container\"><div class=\"sk-label sk-toggleable\"><label>numeric_model</label></div></div><div class=\"sk-serial\"><div class=\"sk-item\"><div class=\"sk-estimator sk-toggleable\"><input class=\"sk-toggleable__control sk-hidden--visually\" id=\"sk-estimator-id-140\" type=\"checkbox\" ><label for=\"sk-estimator-id-140\" class=\"sk-toggleable__label sk-toggleable__label-arrow\">LogisticRegression</label><div class=\"sk-toggleable__content\"><pre>LogisticRegression(max_iter=1000)</pre></div></div></div></div></div></div></div></div></div></div>"
      ],
      "text/plain": [
       "VotingClassifier(estimators=[('nlp_model1', LogisticRegression()),\n",
       "                             ('nlp_model2', LogisticRegression()),\n",
       "                             ('numeric_model',\n",
       "                              LogisticRegression(max_iter=1000))],\n",
       "                 voting='soft')"
      ]
     },
     "execution_count": 393,
     "metadata": {},
     "output_type": "execute_result"
    }
   ],
   "source": [
    "# create a df of all predicted probabilities of all models, on train\n",
    "title_train_pred = pd.DataFrame(nlp_title_model.predict_proba(X_train_vec_title))\n",
    "description_train_pred = pd.DataFrame(nlp_description_model.predict_proba(X_train_vec_des))\n",
    "numerical_train_pred = pd.DataFrame(numerical_data_model.predict_proba(X_train_fe_rob))\n",
    "\n",
    "# concat all predict_proba dataframes\n",
    "X_train_ensemble_1 = pd.concat([title_train_pred, description_train_pred, numerical_train_pred], axis=1)\n",
    "\n",
    "# create ensemble model object\n",
    "ensemble_clf_1 = VotingClassifier(estimators=[\n",
    "    ('nlp_model1', nlp_title_model),\n",
    "    ('nlp_model2', nlp_description_model),\n",
    "    ('numeric_model', numerical_data_model),\n",
    "], voting='soft')  # use 'hard' for majority voting, 'soft' for weighted voting based on probabilities\n",
    "\n",
    "# fit ensemble model on train data\n",
    "ensemble_clf_1.fit(X_train_ensemble_1, y_train)\n"
   ]
  },
  {
   "cell_type": "code",
   "execution_count": 394,
   "metadata": {},
   "outputs": [],
   "source": [
    "# create a df of all predicted probabilities of all models, on test\n",
    "title_test_pred = pd.DataFrame(nlp_title_model.predict_proba(X_test_vec_title))\n",
    "description_test_pred = pd.DataFrame(nlp_description_model.predict_proba(X_test_vec_des))\n",
    "numerical_test_pred = pd.DataFrame(numerical_data_model.predict_proba(X_test_fe_rob))\n",
    "\n",
    "# concat all predict_proba dataframes\n",
    "X_test_ensemble_1 = pd.concat([title_test_pred, description_test_pred, numerical_test_pred], axis=1)"
   ]
  },
  {
   "cell_type": "code",
   "execution_count": 395,
   "metadata": {},
   "outputs": [
    {
     "name": "stdout",
     "output_type": "stream",
     "text": [
      "Accuracy:0.8247831838894605\n",
      "Precision:0.8182606183184051\n",
      "Recall:0.8341678939617084\n",
      "F1:0.8261376896149359\n"
     ]
    }
   ],
   "source": [
    "# predict on train data\n",
    "y_train_pred_ensemble_1 = ensemble_clf_1.predict(X_train_ensemble_1)\n",
    "\n",
    "# check train data metric scores\n",
    "apr(y_train_pred_ensemble_1, y_train)"
   ]
  },
  {
   "cell_type": "code",
   "execution_count": 396,
   "metadata": {},
   "outputs": [
    {
     "name": "stdout",
     "output_type": "stream",
     "text": [
      "Accuracy:0.8089359200470312\n",
      "Precision:0.7972972972972973\n",
      "Recall:0.8300117233294255\n",
      "F1:0.813325674899483\n"
     ]
    }
   ],
   "source": [
    "# predict on test data\n",
    "y_test_pred_ensemble_1 = ensemble_clf_1.predict(X_test_ensemble_1)\n",
    "\n",
    "# check test data metric scores\n",
    "apr(y_test_pred_ensemble_1, y_test)"
   ]
  },
  {
   "cell_type": "code",
   "execution_count": 397,
   "metadata": {},
   "outputs": [
    {
     "data": {
      "text/plain": [
       "0.015847263842429293"
      ]
     },
     "execution_count": 397,
     "metadata": {},
     "output_type": "execute_result"
    }
   ],
   "source": [
    "# calculate overfitting\n",
    "of_1 = accuracy_score(y_train, y_train_pred_ensemble_1) - accuracy_score(y_test, y_test_pred_ensemble_1)\n",
    "of_1"
   ]
  },
  {
   "cell_type": "code",
   "execution_count": 398,
   "metadata": {},
   "outputs": [
    {
     "name": "stdout",
     "output_type": "stream",
     "text": [
      "Mean Accuracy: 0.8210239651416122\n",
      "Mean Precision: 0.8136442044544803\n",
      "Mean Recall: 0.8326266195524145\n",
      "Mean F1: 0.8229686323379146\n"
     ]
    }
   ],
   "source": [
    "# create ensemble model object\n",
    "ensemble_clf_1_cv = VotingClassifier(estimators=[\n",
    "    ('nlp_model1', nlp_title_model),\n",
    "    ('nlp_model2', nlp_description_model),\n",
    "    ('numeric_model', numerical_data_model),\n",
    "], voting='soft')  # use 'hard' for majority voting, 'soft' for weighted voting based on probabilities\n",
    "\n",
    "# cross-validation scores\n",
    "cv_scorer(ensemble_clf_1_cv, X_train_ensemble_1, X_test_ensemble_1, y_train, y_test)"
   ]
  },
  {
   "cell_type": "markdown",
   "metadata": {},
   "source": [
    "# Ensemble with RF Num"
   ]
  },
  {
   "cell_type": "code",
   "execution_count": 399,
   "metadata": {},
   "outputs": [
    {
     "data": {
      "text/html": [
       "<style>#sk-container-id-32 {color: black;background-color: white;}#sk-container-id-32 pre{padding: 0;}#sk-container-id-32 div.sk-toggleable {background-color: white;}#sk-container-id-32 label.sk-toggleable__label {cursor: pointer;display: block;width: 100%;margin-bottom: 0;padding: 0.3em;box-sizing: border-box;text-align: center;}#sk-container-id-32 label.sk-toggleable__label-arrow:before {content: \"▸\";float: left;margin-right: 0.25em;color: #696969;}#sk-container-id-32 label.sk-toggleable__label-arrow:hover:before {color: black;}#sk-container-id-32 div.sk-estimator:hover label.sk-toggleable__label-arrow:before {color: black;}#sk-container-id-32 div.sk-toggleable__content {max-height: 0;max-width: 0;overflow: hidden;text-align: left;background-color: #f0f8ff;}#sk-container-id-32 div.sk-toggleable__content pre {margin: 0.2em;color: black;border-radius: 0.25em;background-color: #f0f8ff;}#sk-container-id-32 input.sk-toggleable__control:checked~div.sk-toggleable__content {max-height: 200px;max-width: 100%;overflow: auto;}#sk-container-id-32 input.sk-toggleable__control:checked~label.sk-toggleable__label-arrow:before {content: \"▾\";}#sk-container-id-32 div.sk-estimator input.sk-toggleable__control:checked~label.sk-toggleable__label {background-color: #d4ebff;}#sk-container-id-32 div.sk-label input.sk-toggleable__control:checked~label.sk-toggleable__label {background-color: #d4ebff;}#sk-container-id-32 input.sk-hidden--visually {border: 0;clip: rect(1px 1px 1px 1px);clip: rect(1px, 1px, 1px, 1px);height: 1px;margin: -1px;overflow: hidden;padding: 0;position: absolute;width: 1px;}#sk-container-id-32 div.sk-estimator {font-family: monospace;background-color: #f0f8ff;border: 1px dotted black;border-radius: 0.25em;box-sizing: border-box;margin-bottom: 0.5em;}#sk-container-id-32 div.sk-estimator:hover {background-color: #d4ebff;}#sk-container-id-32 div.sk-parallel-item::after {content: \"\";width: 100%;border-bottom: 1px solid gray;flex-grow: 1;}#sk-container-id-32 div.sk-label:hover label.sk-toggleable__label {background-color: #d4ebff;}#sk-container-id-32 div.sk-serial::before {content: \"\";position: absolute;border-left: 1px solid gray;box-sizing: border-box;top: 0;bottom: 0;left: 50%;z-index: 0;}#sk-container-id-32 div.sk-serial {display: flex;flex-direction: column;align-items: center;background-color: white;padding-right: 0.2em;padding-left: 0.2em;position: relative;}#sk-container-id-32 div.sk-item {position: relative;z-index: 1;}#sk-container-id-32 div.sk-parallel {display: flex;align-items: stretch;justify-content: center;background-color: white;position: relative;}#sk-container-id-32 div.sk-item::before, #sk-container-id-32 div.sk-parallel-item::before {content: \"\";position: absolute;border-left: 1px solid gray;box-sizing: border-box;top: 0;bottom: 0;left: 50%;z-index: -1;}#sk-container-id-32 div.sk-parallel-item {display: flex;flex-direction: column;z-index: 1;position: relative;background-color: white;}#sk-container-id-32 div.sk-parallel-item:first-child::after {align-self: flex-end;width: 50%;}#sk-container-id-32 div.sk-parallel-item:last-child::after {align-self: flex-start;width: 50%;}#sk-container-id-32 div.sk-parallel-item:only-child::after {width: 0;}#sk-container-id-32 div.sk-dashed-wrapped {border: 1px dashed gray;margin: 0 0.4em 0.5em 0.4em;box-sizing: border-box;padding-bottom: 0.4em;background-color: white;}#sk-container-id-32 div.sk-label label {font-family: monospace;font-weight: bold;display: inline-block;line-height: 1.2em;}#sk-container-id-32 div.sk-label-container {text-align: center;}#sk-container-id-32 div.sk-container {/* jupyter's `normalize.less` sets `[hidden] { display: none; }` but bootstrap.min.css set `[hidden] { display: none !important; }` so we also need the `!important` here to be able to override the default hidden behavior on the sphinx rendered scikit-learn.org. See: https://github.com/scikit-learn/scikit-learn/issues/21755 */display: inline-block !important;position: relative;}#sk-container-id-32 div.sk-text-repr-fallback {display: none;}</style><div id=\"sk-container-id-32\" class=\"sk-top-container\"><div class=\"sk-text-repr-fallback\"><pre>VotingClassifier(estimators=[(&#x27;nlp_model1&#x27;, LogisticRegression()),\n",
       "                             (&#x27;nlp_model2&#x27;, LogisticRegression()),\n",
       "                             (&#x27;numeric_model&#x27;,\n",
       "                              RandomForestClassifier(max_depth=7,\n",
       "                                                     min_samples_leaf=5,\n",
       "                                                     min_samples_split=6,\n",
       "                                                     n_estimators=235,\n",
       "                                                     random_state=21))],\n",
       "                 voting=&#x27;soft&#x27;)</pre><b>In a Jupyter environment, please rerun this cell to show the HTML representation or trust the notebook. <br />On GitHub, the HTML representation is unable to render, please try loading this page with nbviewer.org.</b></div><div class=\"sk-container\" hidden><div class=\"sk-item sk-dashed-wrapped\"><div class=\"sk-label-container\"><div class=\"sk-label sk-toggleable\"><input class=\"sk-toggleable__control sk-hidden--visually\" id=\"sk-estimator-id-141\" type=\"checkbox\" ><label for=\"sk-estimator-id-141\" class=\"sk-toggleable__label sk-toggleable__label-arrow\">VotingClassifier</label><div class=\"sk-toggleable__content\"><pre>VotingClassifier(estimators=[(&#x27;nlp_model1&#x27;, LogisticRegression()),\n",
       "                             (&#x27;nlp_model2&#x27;, LogisticRegression()),\n",
       "                             (&#x27;numeric_model&#x27;,\n",
       "                              RandomForestClassifier(max_depth=7,\n",
       "                                                     min_samples_leaf=5,\n",
       "                                                     min_samples_split=6,\n",
       "                                                     n_estimators=235,\n",
       "                                                     random_state=21))],\n",
       "                 voting=&#x27;soft&#x27;)</pre></div></div></div><div class=\"sk-parallel\"><div class=\"sk-parallel-item\"><div class=\"sk-item\"><div class=\"sk-label-container\"><div class=\"sk-label sk-toggleable\"><label>nlp_model1</label></div></div><div class=\"sk-serial\"><div class=\"sk-item\"><div class=\"sk-estimator sk-toggleable\"><input class=\"sk-toggleable__control sk-hidden--visually\" id=\"sk-estimator-id-142\" type=\"checkbox\" ><label for=\"sk-estimator-id-142\" class=\"sk-toggleable__label sk-toggleable__label-arrow\">LogisticRegression</label><div class=\"sk-toggleable__content\"><pre>LogisticRegression()</pre></div></div></div></div></div></div><div class=\"sk-parallel-item\"><div class=\"sk-item\"><div class=\"sk-label-container\"><div class=\"sk-label sk-toggleable\"><label>nlp_model2</label></div></div><div class=\"sk-serial\"><div class=\"sk-item\"><div class=\"sk-estimator sk-toggleable\"><input class=\"sk-toggleable__control sk-hidden--visually\" id=\"sk-estimator-id-143\" type=\"checkbox\" ><label for=\"sk-estimator-id-143\" class=\"sk-toggleable__label sk-toggleable__label-arrow\">LogisticRegression</label><div class=\"sk-toggleable__content\"><pre>LogisticRegression()</pre></div></div></div></div></div></div><div class=\"sk-parallel-item\"><div class=\"sk-item\"><div class=\"sk-label-container\"><div class=\"sk-label sk-toggleable\"><label>numeric_model</label></div></div><div class=\"sk-serial\"><div class=\"sk-item\"><div class=\"sk-estimator sk-toggleable\"><input class=\"sk-toggleable__control sk-hidden--visually\" id=\"sk-estimator-id-144\" type=\"checkbox\" ><label for=\"sk-estimator-id-144\" class=\"sk-toggleable__label sk-toggleable__label-arrow\">RandomForestClassifier</label><div class=\"sk-toggleable__content\"><pre>RandomForestClassifier(max_depth=7, min_samples_leaf=5, min_samples_split=6,\n",
       "                       n_estimators=235, random_state=21)</pre></div></div></div></div></div></div></div></div></div></div>"
      ],
      "text/plain": [
       "VotingClassifier(estimators=[('nlp_model1', LogisticRegression()),\n",
       "                             ('nlp_model2', LogisticRegression()),\n",
       "                             ('numeric_model',\n",
       "                              RandomForestClassifier(max_depth=7,\n",
       "                                                     min_samples_leaf=5,\n",
       "                                                     min_samples_split=6,\n",
       "                                                     n_estimators=235,\n",
       "                                                     random_state=21))],\n",
       "                 voting='soft')"
      ]
     },
     "execution_count": 399,
     "metadata": {},
     "output_type": "execute_result"
    }
   ],
   "source": [
    "# create a df of all predicted probabilities of all models, on train\n",
    "title_train_pred = pd.DataFrame(nlp_title_model.predict_proba(X_train_vec_title))\n",
    "description_train_pred = pd.DataFrame(nlp_description_model.predict_proba(X_train_vec_des))\n",
    "numerical_train_pred = pd.DataFrame(num_rf.predict_proba(X_train_fe_rob))\n",
    "\n",
    "# concat all predict_proba dataframes\n",
    "X_train_ensemble_2 = pd.concat([title_train_pred, description_train_pred, numerical_train_pred], axis=1)\n",
    "\n",
    "# create ensemble model object\n",
    "ensemble_clf_2 = VotingClassifier(estimators=[\n",
    "    ('nlp_model1', nlp_title_model),\n",
    "    ('nlp_model2', nlp_description_model),\n",
    "    ('numeric_model', num_rf),\n",
    "], voting='soft')  # use 'hard' for majority voting, 'soft' for weighted voting based on probabilities\n",
    "\n",
    "# fit ensemble model on train data\n",
    "ensemble_clf_2.fit(X_train_ensemble_2, y_train)"
   ]
  },
  {
   "cell_type": "code",
   "execution_count": 400,
   "metadata": {},
   "outputs": [],
   "source": [
    "# create a df of all predicted probabilities of all models, on test\n",
    "title_test_pred = pd.DataFrame(nlp_title_model.predict_proba(X_test_vec_title))\n",
    "description_test_pred = pd.DataFrame(nlp_description_model.predict_proba(X_test_vec_des))\n",
    "numerical_test_pred = pd.DataFrame(num_rf.predict_proba(X_test_fe_rob))\n",
    "\n",
    "# concat all predict_proba dataframes\n",
    "X_test_ensemble_2 = pd.concat([title_test_pred, description_test_pred, numerical_test_pred], axis=1)"
   ]
  },
  {
   "cell_type": "code",
   "execution_count": 401,
   "metadata": {},
   "outputs": [
    {
     "name": "stdout",
     "output_type": "stream",
     "text": [
      "Accuracy:0.8475672497427605\n",
      "Precision:0.8403579676674365\n",
      "Recall:0.8574374079528718\n",
      "F1:0.848811780142878\n"
     ]
    }
   ],
   "source": [
    "# predict on train data\n",
    "y_train_pred_ensemble_2 = ensemble_clf_2.predict(X_train_ensemble_2)\n",
    "\n",
    "# check train data metric scores\n",
    "apr(y_train_pred_ensemble_2, y_train)"
   ]
  },
  {
   "cell_type": "code",
   "execution_count": 402,
   "metadata": {},
   "outputs": [
    {
     "name": "stdout",
     "output_type": "stream",
     "text": [
      "Accuracy:0.8324514991181657\n",
      "Precision:0.8169642857142857\n",
      "Recall:0.8581477139507621\n",
      "F1:0.8370497427101201\n"
     ]
    }
   ],
   "source": [
    "# predict on test data\n",
    "y_test_pred_ensemble_2 = ensemble_clf_2.predict(X_test_ensemble_2)\n",
    "\n",
    "# check test data metric scores\n",
    "apr(y_test_pred_ensemble_2, y_test)"
   ]
  },
  {
   "cell_type": "code",
   "execution_count": 403,
   "metadata": {},
   "outputs": [
    {
     "data": {
      "text/plain": [
       "0.015115750624594804"
      ]
     },
     "execution_count": 403,
     "metadata": {},
     "output_type": "execute_result"
    }
   ],
   "source": [
    "of_2 = accuracy_score(y_train, y_train_pred_ensemble_2) - accuracy_score(y_test, y_test_pred_ensemble_2)\n",
    "of_2"
   ]
  },
  {
   "cell_type": "code",
   "execution_count": 404,
   "metadata": {},
   "outputs": [
    {
     "name": "stdout",
     "output_type": "stream",
     "text": [
      "Mean Accuracy: 0.8405446623093683\n",
      "Mean Precision: 0.8326147710845646\n",
      "Mean Recall: 0.8524013025704982\n",
      "Mean F1: 0.8423203810104841\n"
     ]
    }
   ],
   "source": [
    "# create ensemble model object\n",
    "ensemble_clf_2_cv = VotingClassifier(estimators=[\n",
    "    ('nlp_model1', nlp_title_model),\n",
    "    ('nlp_model2', nlp_description_model),\n",
    "    ('numeric_model', num_rf),\n",
    "], voting='soft')  # use 'hard' for majority voting, 'soft' for weighted voting based on probabilities\n",
    "\n",
    "# cross-validation scores\n",
    "cv_scorer(ensemble_clf_2_cv, X_train_ensemble_2, X_test_ensemble_2, y_train, y_test)"
   ]
  },
  {
   "cell_type": "markdown",
   "metadata": {},
   "source": [
    "# Ensemble with RF Num and Ensemble Title"
   ]
  },
  {
   "cell_type": "code",
   "execution_count": 405,
   "metadata": {},
   "outputs": [
    {
     "data": {
      "text/html": [
       "<style>#sk-container-id-33 {color: black;background-color: white;}#sk-container-id-33 pre{padding: 0;}#sk-container-id-33 div.sk-toggleable {background-color: white;}#sk-container-id-33 label.sk-toggleable__label {cursor: pointer;display: block;width: 100%;margin-bottom: 0;padding: 0.3em;box-sizing: border-box;text-align: center;}#sk-container-id-33 label.sk-toggleable__label-arrow:before {content: \"▸\";float: left;margin-right: 0.25em;color: #696969;}#sk-container-id-33 label.sk-toggleable__label-arrow:hover:before {color: black;}#sk-container-id-33 div.sk-estimator:hover label.sk-toggleable__label-arrow:before {color: black;}#sk-container-id-33 div.sk-toggleable__content {max-height: 0;max-width: 0;overflow: hidden;text-align: left;background-color: #f0f8ff;}#sk-container-id-33 div.sk-toggleable__content pre {margin: 0.2em;color: black;border-radius: 0.25em;background-color: #f0f8ff;}#sk-container-id-33 input.sk-toggleable__control:checked~div.sk-toggleable__content {max-height: 200px;max-width: 100%;overflow: auto;}#sk-container-id-33 input.sk-toggleable__control:checked~label.sk-toggleable__label-arrow:before {content: \"▾\";}#sk-container-id-33 div.sk-estimator input.sk-toggleable__control:checked~label.sk-toggleable__label {background-color: #d4ebff;}#sk-container-id-33 div.sk-label input.sk-toggleable__control:checked~label.sk-toggleable__label {background-color: #d4ebff;}#sk-container-id-33 input.sk-hidden--visually {border: 0;clip: rect(1px 1px 1px 1px);clip: rect(1px, 1px, 1px, 1px);height: 1px;margin: -1px;overflow: hidden;padding: 0;position: absolute;width: 1px;}#sk-container-id-33 div.sk-estimator {font-family: monospace;background-color: #f0f8ff;border: 1px dotted black;border-radius: 0.25em;box-sizing: border-box;margin-bottom: 0.5em;}#sk-container-id-33 div.sk-estimator:hover {background-color: #d4ebff;}#sk-container-id-33 div.sk-parallel-item::after {content: \"\";width: 100%;border-bottom: 1px solid gray;flex-grow: 1;}#sk-container-id-33 div.sk-label:hover label.sk-toggleable__label {background-color: #d4ebff;}#sk-container-id-33 div.sk-serial::before {content: \"\";position: absolute;border-left: 1px solid gray;box-sizing: border-box;top: 0;bottom: 0;left: 50%;z-index: 0;}#sk-container-id-33 div.sk-serial {display: flex;flex-direction: column;align-items: center;background-color: white;padding-right: 0.2em;padding-left: 0.2em;position: relative;}#sk-container-id-33 div.sk-item {position: relative;z-index: 1;}#sk-container-id-33 div.sk-parallel {display: flex;align-items: stretch;justify-content: center;background-color: white;position: relative;}#sk-container-id-33 div.sk-item::before, #sk-container-id-33 div.sk-parallel-item::before {content: \"\";position: absolute;border-left: 1px solid gray;box-sizing: border-box;top: 0;bottom: 0;left: 50%;z-index: -1;}#sk-container-id-33 div.sk-parallel-item {display: flex;flex-direction: column;z-index: 1;position: relative;background-color: white;}#sk-container-id-33 div.sk-parallel-item:first-child::after {align-self: flex-end;width: 50%;}#sk-container-id-33 div.sk-parallel-item:last-child::after {align-self: flex-start;width: 50%;}#sk-container-id-33 div.sk-parallel-item:only-child::after {width: 0;}#sk-container-id-33 div.sk-dashed-wrapped {border: 1px dashed gray;margin: 0 0.4em 0.5em 0.4em;box-sizing: border-box;padding-bottom: 0.4em;background-color: white;}#sk-container-id-33 div.sk-label label {font-family: monospace;font-weight: bold;display: inline-block;line-height: 1.2em;}#sk-container-id-33 div.sk-label-container {text-align: center;}#sk-container-id-33 div.sk-container {/* jupyter's `normalize.less` sets `[hidden] { display: none; }` but bootstrap.min.css set `[hidden] { display: none !important; }` so we also need the `!important` here to be able to override the default hidden behavior on the sphinx rendered scikit-learn.org. See: https://github.com/scikit-learn/scikit-learn/issues/21755 */display: inline-block !important;position: relative;}#sk-container-id-33 div.sk-text-repr-fallback {display: none;}</style><div id=\"sk-container-id-33\" class=\"sk-top-container\"><div class=\"sk-text-repr-fallback\"><pre>VotingClassifier(estimators=[(&#x27;nlp_model1&#x27;,\n",
       "                              VotingClassifier(estimators=[(&#x27;nb_model1&#x27;,\n",
       "                                                            MultinomialNB()),\n",
       "                                                           (&#x27;nb_model2&#x27;,\n",
       "                                                            BernoulliNB()),\n",
       "                                                           (&#x27;lr_model&#x27;,\n",
       "                                                            LogisticRegression())],\n",
       "                                               voting=&#x27;soft&#x27;)),\n",
       "                             (&#x27;nlp_model2&#x27;, LogisticRegression()),\n",
       "                             (&#x27;numeric_model&#x27;,\n",
       "                              RandomForestClassifier(max_depth=7,\n",
       "                                                     min_samples_leaf=5,\n",
       "                                                     min_samples_split=6,\n",
       "                                                     n_estimators=235,\n",
       "                                                     random_state=21))],\n",
       "                 voting=&#x27;soft&#x27;)</pre><b>In a Jupyter environment, please rerun this cell to show the HTML representation or trust the notebook. <br />On GitHub, the HTML representation is unable to render, please try loading this page with nbviewer.org.</b></div><div class=\"sk-container\" hidden><div class=\"sk-item sk-dashed-wrapped\"><div class=\"sk-label-container\"><div class=\"sk-label sk-toggleable\"><input class=\"sk-toggleable__control sk-hidden--visually\" id=\"sk-estimator-id-145\" type=\"checkbox\" ><label for=\"sk-estimator-id-145\" class=\"sk-toggleable__label sk-toggleable__label-arrow\">VotingClassifier</label><div class=\"sk-toggleable__content\"><pre>VotingClassifier(estimators=[(&#x27;nlp_model1&#x27;,\n",
       "                              VotingClassifier(estimators=[(&#x27;nb_model1&#x27;,\n",
       "                                                            MultinomialNB()),\n",
       "                                                           (&#x27;nb_model2&#x27;,\n",
       "                                                            BernoulliNB()),\n",
       "                                                           (&#x27;lr_model&#x27;,\n",
       "                                                            LogisticRegression())],\n",
       "                                               voting=&#x27;soft&#x27;)),\n",
       "                             (&#x27;nlp_model2&#x27;, LogisticRegression()),\n",
       "                             (&#x27;numeric_model&#x27;,\n",
       "                              RandomForestClassifier(max_depth=7,\n",
       "                                                     min_samples_leaf=5,\n",
       "                                                     min_samples_split=6,\n",
       "                                                     n_estimators=235,\n",
       "                                                     random_state=21))],\n",
       "                 voting=&#x27;soft&#x27;)</pre></div></div></div><div class=\"sk-parallel\"><div class=\"sk-parallel-item\"><div class=\"sk-item\"><div class=\"sk-label-container\"><div class=\"sk-label sk-toggleable\"><label>nlp_model1</label></div></div><div class=\"sk-serial\"><div class=\"sk-item sk-dashed-wrapped\"><div class=\"sk-parallel\"><div class=\"sk-parallel-item\"><div class=\"sk-item\"><div class=\"sk-label-container\"><div class=\"sk-label sk-toggleable\"><label>nb_model1</label></div></div><div class=\"sk-serial\"><div class=\"sk-item\"><div class=\"sk-estimator sk-toggleable\"><input class=\"sk-toggleable__control sk-hidden--visually\" id=\"sk-estimator-id-146\" type=\"checkbox\" ><label for=\"sk-estimator-id-146\" class=\"sk-toggleable__label sk-toggleable__label-arrow\">MultinomialNB</label><div class=\"sk-toggleable__content\"><pre>MultinomialNB()</pre></div></div></div></div></div></div><div class=\"sk-parallel-item\"><div class=\"sk-item\"><div class=\"sk-label-container\"><div class=\"sk-label sk-toggleable\"><label>nb_model2</label></div></div><div class=\"sk-serial\"><div class=\"sk-item\"><div class=\"sk-estimator sk-toggleable\"><input class=\"sk-toggleable__control sk-hidden--visually\" id=\"sk-estimator-id-147\" type=\"checkbox\" ><label for=\"sk-estimator-id-147\" class=\"sk-toggleable__label sk-toggleable__label-arrow\">BernoulliNB</label><div class=\"sk-toggleable__content\"><pre>BernoulliNB()</pre></div></div></div></div></div></div><div class=\"sk-parallel-item\"><div class=\"sk-item\"><div class=\"sk-label-container\"><div class=\"sk-label sk-toggleable\"><label>lr_model</label></div></div><div class=\"sk-serial\"><div class=\"sk-item\"><div class=\"sk-estimator sk-toggleable\"><input class=\"sk-toggleable__control sk-hidden--visually\" id=\"sk-estimator-id-148\" type=\"checkbox\" ><label for=\"sk-estimator-id-148\" class=\"sk-toggleable__label sk-toggleable__label-arrow\">LogisticRegression</label><div class=\"sk-toggleable__content\"><pre>LogisticRegression()</pre></div></div></div></div></div></div></div></div></div></div></div><div class=\"sk-parallel-item\"><div class=\"sk-item\"><div class=\"sk-label-container\"><div class=\"sk-label sk-toggleable\"><label>nlp_model2</label></div></div><div class=\"sk-serial\"><div class=\"sk-item\"><div class=\"sk-estimator sk-toggleable\"><input class=\"sk-toggleable__control sk-hidden--visually\" id=\"sk-estimator-id-149\" type=\"checkbox\" ><label for=\"sk-estimator-id-149\" class=\"sk-toggleable__label sk-toggleable__label-arrow\">LogisticRegression</label><div class=\"sk-toggleable__content\"><pre>LogisticRegression()</pre></div></div></div></div></div></div><div class=\"sk-parallel-item\"><div class=\"sk-item\"><div class=\"sk-label-container\"><div class=\"sk-label sk-toggleable\"><label>numeric_model</label></div></div><div class=\"sk-serial\"><div class=\"sk-item\"><div class=\"sk-estimator sk-toggleable\"><input class=\"sk-toggleable__control sk-hidden--visually\" id=\"sk-estimator-id-150\" type=\"checkbox\" ><label for=\"sk-estimator-id-150\" class=\"sk-toggleable__label sk-toggleable__label-arrow\">RandomForestClassifier</label><div class=\"sk-toggleable__content\"><pre>RandomForestClassifier(max_depth=7, min_samples_leaf=5, min_samples_split=6,\n",
       "                       n_estimators=235, random_state=21)</pre></div></div></div></div></div></div></div></div></div></div>"
      ],
      "text/plain": [
       "VotingClassifier(estimators=[('nlp_model1',\n",
       "                              VotingClassifier(estimators=[('nb_model1',\n",
       "                                                            MultinomialNB()),\n",
       "                                                           ('nb_model2',\n",
       "                                                            BernoulliNB()),\n",
       "                                                           ('lr_model',\n",
       "                                                            LogisticRegression())],\n",
       "                                               voting='soft')),\n",
       "                             ('nlp_model2', LogisticRegression()),\n",
       "                             ('numeric_model',\n",
       "                              RandomForestClassifier(max_depth=7,\n",
       "                                                     min_samples_leaf=5,\n",
       "                                                     min_samples_split=6,\n",
       "                                                     n_estimators=235,\n",
       "                                                     random_state=21))],\n",
       "                 voting='soft')"
      ]
     },
     "execution_count": 405,
     "metadata": {},
     "output_type": "execute_result"
    }
   ],
   "source": [
    "# create a df of all predicted probabilities of all models, on train\n",
    "title_train_pred = pd.DataFrame(ensemble_title.predict_proba(ensemble_title_train))\n",
    "description_train_pred = pd.DataFrame(nlp_description_model.predict_proba(X_train_vec_des))\n",
    "numerical_train_pred = pd.DataFrame(num_rf.predict_proba(X_train_fe_rob))\n",
    "\n",
    "# concat all predict_proba dataframes\n",
    "X_train_ensemble_3 = pd.concat([title_train_pred, description_train_pred, numerical_train_pred], axis=1)\n",
    "\n",
    "# create ensemble model object\n",
    "ensemble_clf_3 = VotingClassifier(estimators=[\n",
    "    ('nlp_model1', ensemble_title),\n",
    "    ('nlp_model2', nlp_description_model),\n",
    "    ('numeric_model', num_rf),\n",
    "], voting='soft')  # use 'hard' for majority voting, 'soft' for weighted voting based on probabilities\n",
    "\n",
    "# fit ensemble model on train data\n",
    "ensemble_clf_3.fit(X_train_ensemble_3, y_train)"
   ]
  },
  {
   "cell_type": "code",
   "execution_count": 406,
   "metadata": {},
   "outputs": [],
   "source": [
    "# create a df of all predicted probabilities of all models, on test\n",
    "title_test_pred = pd.DataFrame(ensemble_title.predict_proba(ensemble_title_test))\n",
    "description_test_pred = pd.DataFrame(nlp_description_model.predict_proba(X_test_vec_des))\n",
    "numerical_test_pred = pd.DataFrame(num_rf.predict_proba(X_test_fe_rob))\n",
    "\n",
    "# concat all predict_proba dataframes\n",
    "X_test_ensemble_3 = pd.concat([title_test_pred, description_test_pred, numerical_test_pred], axis=1)"
   ]
  },
  {
   "cell_type": "code",
   "execution_count": 407,
   "metadata": {},
   "outputs": [
    {
     "name": "stdout",
     "output_type": "stream",
     "text": [
      "Accuracy:0.8468322798765251\n",
      "Precision:0.8383664078228358\n",
      "Recall:0.8586156111929307\n",
      "F1:0.8483701979045402\n"
     ]
    }
   ],
   "source": [
    "# predict on train data\n",
    "y_train_pred_ensemble_3 = ensemble_clf_3.predict(X_train_ensemble_3)\n",
    "\n",
    "# check train data metric scores\n",
    "apr(y_train_pred_ensemble_3, y_train)"
   ]
  },
  {
   "cell_type": "code",
   "execution_count": 408,
   "metadata": {},
   "outputs": [
    {
     "name": "stdout",
     "output_type": "stream",
     "text": [
      "Accuracy:0.831275720164609\n",
      "Precision:0.8158482142857143\n",
      "Recall:0.8569753810082064\n",
      "F1:0.8359062321326473\n"
     ]
    }
   ],
   "source": [
    "# predict on test data\n",
    "y_test_pred_ensemble_3 = ensemble_clf_3.predict(X_test_ensemble_3)\n",
    "\n",
    "# check test data metric scores\n",
    "apr(y_test_pred_ensemble_3, y_test)"
   ]
  },
  {
   "cell_type": "code",
   "execution_count": 409,
   "metadata": {},
   "outputs": [
    {
     "data": {
      "text/plain": [
       "0.015556559711916051"
      ]
     },
     "execution_count": 409,
     "metadata": {},
     "output_type": "execute_result"
    }
   ],
   "source": [
    "of_3 = accuracy_score(y_train, y_train_pred_ensemble_3) - accuracy_score(y_test, y_test_pred_ensemble_3)\n",
    "of_3"
   ]
  },
  {
   "cell_type": "code",
   "execution_count": 410,
   "metadata": {},
   "outputs": [
    {
     "name": "stdout",
     "output_type": "stream",
     "text": [
      "Mean Accuracy: 0.8378401632257841\n",
      "Mean Precision: 0.8282475227664874\n",
      "Mean Recall: 0.8523999168572022\n",
      "Mean F1: 0.8400695124364639\n"
     ]
    }
   ],
   "source": [
    "# create ensemble model object\n",
    "ensemble_clf_3_cv = VotingClassifier(estimators=[\n",
    "    ('nlp_model1', ensemble_title),\n",
    "    ('nlp_model2', nlp_description_model),\n",
    "    ('numeric_model', num_rf),\n",
    "], voting='soft')  # use 'hard' for majority voting, 'soft' for weighted voting based on probabilities\n",
    "\n",
    "# cross-validation scores\n",
    "cv_scorer(ensemble_clf_3_cv, X_train_ensemble_3, X_test_ensemble_3, y_train, y_test)"
   ]
  },
  {
   "cell_type": "markdown",
   "metadata": {},
   "source": [
    "# Pickle Best Model"
   ]
  },
  {
   "cell_type": "code",
   "execution_count": 412,
   "metadata": {},
   "outputs": [
    {
     "name": "stdout",
     "output_type": "stream",
     "text": [
      "Mean Accuracy: 0.8210239651416122\n",
      "Mean Precision: 0.8136442044544803\n",
      "Mean Recall: 0.8326266195524145\n",
      "Mean F1: 0.8229686323379146\n"
     ]
    }
   ],
   "source": [
    "cv_scorer(ensemble_clf_1_cv, X_train_ensemble_1, X_test_ensemble_1, y_train, y_test)"
   ]
  },
  {
   "cell_type": "code",
   "execution_count": 413,
   "metadata": {},
   "outputs": [
    {
     "name": "stdout",
     "output_type": "stream",
     "text": [
      "Mean Accuracy: 0.8405446623093683\n",
      "Mean Precision: 0.8326147710845646\n",
      "Mean Recall: 0.8524013025704982\n",
      "Mean F1: 0.8423203810104841\n"
     ]
    }
   ],
   "source": [
    "cv_scorer(ensemble_clf_2_cv, X_train_ensemble_2, X_test_ensemble_2, y_train, y_test)"
   ]
  },
  {
   "cell_type": "code",
   "execution_count": 358,
   "metadata": {},
   "outputs": [
    {
     "name": "stdout",
     "output_type": "stream",
     "text": [
      "Mean Accuracy: 0.8378401632257841\n",
      "Mean Precision: 0.8282475227664874\n",
      "Mean Recall: 0.8523999168572022\n",
      "Mean F1: 0.8400695124364639\n"
     ]
    }
   ],
   "source": [
    "cv_scorer(ensemble_clf_3_cv, X_train_ensemble_3, X_test_ensemble_3, y_train, y_test)"
   ]
  },
  {
   "cell_type": "code",
   "execution_count": 414,
   "metadata": {},
   "outputs": [
    {
     "name": "stdout",
     "output_type": "stream",
     "text": [
      "0.015847263842429293\n",
      "0.015115750624594804\n",
      "0.015556559711916051\n"
     ]
    }
   ],
   "source": [
    "# compare overfitting\n",
    "print(of_1)\n",
    "print(of_2)\n",
    "print(of_3)"
   ]
  },
  {
   "cell_type": "code",
   "execution_count": 126,
   "metadata": {},
   "outputs": [],
   "source": [
    "# save best ensemble model as pkl file for deployment\n",
    "# with open('ensemble_clf_2.pkl', 'wb') as file:\n",
    "#     pickle.dump(ensemble_clf_3, file)"
   ]
  }
 ],
 "metadata": {
  "kernelspec": {
   "display_name": "base",
   "language": "python",
   "name": "python3"
  },
  "language_info": {
   "codemirror_mode": {
    "name": "ipython",
    "version": 3
   },
   "file_extension": ".py",
   "mimetype": "text/x-python",
   "name": "python",
   "nbconvert_exporter": "python",
   "pygments_lexer": "ipython3",
   "version": "3.10.9"
  }
 },
 "nbformat": 4,
 "nbformat_minor": 2
}

{
 "cells": [
  {
   "cell_type": "markdown",
   "metadata": {},
   "source": [
    "# Import Libraries"
   ]
  },
  {
   "cell_type": "code",
   "execution_count": 2,
   "metadata": {},
   "outputs": [],
   "source": [
    "import pickle\n",
    "import pandas as pd\n",
    "\n",
    "from sklearn.feature_extraction.text import CountVectorizer\n",
    "from sklearn.feature_extraction.text import TfidfVectorizer\n",
    "from sklearn.model_selection import train_test_split\n",
    "from sklearn import metrics\n",
    "from sklearn.linear_model import LogisticRegression\n",
    "from sklearn.metrics import accuracy_score"
   ]
  },
  {
   "cell_type": "markdown",
   "metadata": {},
   "source": [
    "# Importing Data"
   ]
  },
  {
   "cell_type": "code",
   "execution_count": 3,
   "metadata": {},
   "outputs": [],
   "source": [
    "with open('new_eda_data.pkl', 'rb') as file:\n",
    "    df = pickle.load(file)"
   ]
  },
  {
   "cell_type": "code",
   "execution_count": 4,
   "metadata": {},
   "outputs": [
    {
     "data": {
      "text/plain": [
       "Index(['video_id', 'channel_id', 'title', 'description', 'tags', 'caption',\n",
       "       'licensed_content', 'view_count', 'like_count', 'comment_count',\n",
       "       'channel_name', 'subscribers', 'total_views', 'total_videos',\n",
       "       'playlist_id', 'category', 'duration_formatted',\n",
       "       'published_at_formatted', 'no_of_tags', 'title_length',\n",
       "       'description_length', 'target', 'age', 'duration_minutes'],\n",
       "      dtype='object')"
      ]
     },
     "execution_count": 4,
     "metadata": {},
     "output_type": "execute_result"
    }
   ],
   "source": [
    "df.columns"
   ]
  },
  {
   "cell_type": "code",
   "execution_count": 5,
   "metadata": {},
   "outputs": [],
   "source": [
    "# select columns for modelling\n",
    "df_title = df[['title', 'target']]"
   ]
  },
  {
   "cell_type": "code",
   "execution_count": 6,
   "metadata": {},
   "outputs": [
    {
     "data": {
      "text/html": [
       "<div>\n",
       "<style scoped>\n",
       "    .dataframe tbody tr th:only-of-type {\n",
       "        vertical-align: middle;\n",
       "    }\n",
       "\n",
       "    .dataframe tbody tr th {\n",
       "        vertical-align: top;\n",
       "    }\n",
       "\n",
       "    .dataframe thead th {\n",
       "        text-align: right;\n",
       "    }\n",
       "</style>\n",
       "<table border=\"1\" class=\"dataframe\">\n",
       "  <thead>\n",
       "    <tr style=\"text-align: right;\">\n",
       "      <th></th>\n",
       "      <th>title</th>\n",
       "      <th>target</th>\n",
       "    </tr>\n",
       "  </thead>\n",
       "  <tbody>\n",
       "    <tr>\n",
       "      <th>0</th>\n",
       "      <td>Using Code and GPT-3 to Learn Faster</td>\n",
       "      <td>1</td>\n",
       "    </tr>\n",
       "    <tr>\n",
       "      <th>1</th>\n",
       "      <td>Data Analyst MENTORSHIP -  Q&amp;A (while I drink ...</td>\n",
       "      <td>0</td>\n",
       "    </tr>\n",
       "    <tr>\n",
       "      <th>2</th>\n",
       "      <td>How Data Science ACTUALLY Works</td>\n",
       "      <td>1</td>\n",
       "    </tr>\n",
       "    <tr>\n",
       "      <th>3</th>\n",
       "      <td>Does Instagram think you live in an influentia...</td>\n",
       "      <td>0</td>\n",
       "    </tr>\n",
       "    <tr>\n",
       "      <th>4</th>\n",
       "      <td>Data Analyst MENTORSHIP -  Q&amp;A (while I drink ...</td>\n",
       "      <td>0</td>\n",
       "    </tr>\n",
       "    <tr>\n",
       "      <th>...</th>\n",
       "      <td>...</td>\n",
       "      <td>...</td>\n",
       "    </tr>\n",
       "    <tr>\n",
       "      <th>9317</th>\n",
       "      <td>Data Analyst Resume | Reviewing My Resume! | F...</td>\n",
       "      <td>1</td>\n",
       "    </tr>\n",
       "    <tr>\n",
       "      <th>9318</th>\n",
       "      <td>Working at a Big Company Vs Small Company | To...</td>\n",
       "      <td>1</td>\n",
       "    </tr>\n",
       "    <tr>\n",
       "      <th>9319</th>\n",
       "      <td>Data Analyst Salary | 100k with No Experience</td>\n",
       "      <td>1</td>\n",
       "    </tr>\n",
       "    <tr>\n",
       "      <th>9320</th>\n",
       "      <td>Truth About Big Companies | Told by a Fortune ...</td>\n",
       "      <td>1</td>\n",
       "    </tr>\n",
       "    <tr>\n",
       "      <th>9321</th>\n",
       "      <td>Top 3 Data Analyst Skills in 2020</td>\n",
       "      <td>1</td>\n",
       "    </tr>\n",
       "  </tbody>\n",
       "</table>\n",
       "<p>8504 rows × 2 columns</p>\n",
       "</div>"
      ],
      "text/plain": [
       "                                                  title  target\n",
       "0                  Using Code and GPT-3 to Learn Faster       1\n",
       "1     Data Analyst MENTORSHIP -  Q&A (while I drink ...       0\n",
       "2                       How Data Science ACTUALLY Works       1\n",
       "3     Does Instagram think you live in an influentia...       0\n",
       "4     Data Analyst MENTORSHIP -  Q&A (while I drink ...       0\n",
       "...                                                 ...     ...\n",
       "9317  Data Analyst Resume | Reviewing My Resume! | F...       1\n",
       "9318  Working at a Big Company Vs Small Company | To...       1\n",
       "9319      Data Analyst Salary | 100k with No Experience       1\n",
       "9320  Truth About Big Companies | Told by a Fortune ...       1\n",
       "9321                  Top 3 Data Analyst Skills in 2020       1\n",
       "\n",
       "[8504 rows x 2 columns]"
      ]
     },
     "execution_count": 6,
     "metadata": {},
     "output_type": "execute_result"
    }
   ],
   "source": [
    "df_title"
   ]
  },
  {
   "cell_type": "markdown",
   "metadata": {},
   "source": [
    "# Train, Test, Split"
   ]
  },
  {
   "cell_type": "code",
   "execution_count": 7,
   "metadata": {},
   "outputs": [],
   "source": [
    "# seperate feature and target columns\n",
    "X = df_title['title']\n",
    "\n",
    "y = df_title['target']\n",
    "\n",
    "X_train, X_test, y_train, y_test = train_test_split(X, y, test_size=0.2, random_state=21)"
   ]
  },
  {
   "cell_type": "code",
   "execution_count": 8,
   "metadata": {},
   "outputs": [
    {
     "data": {
      "text/plain": [
       "(6803,)"
      ]
     },
     "execution_count": 8,
     "metadata": {},
     "output_type": "execute_result"
    }
   ],
   "source": [
    "X_train.shape"
   ]
  },
  {
   "cell_type": "code",
   "execution_count": 12,
   "metadata": {},
   "outputs": [
    {
     "data": {
      "text/plain": [
       "6803"
      ]
     },
     "execution_count": 12,
     "metadata": {},
     "output_type": "execute_result"
    }
   ],
   "source": [
    "# check index between X_train and y_train match\n",
    "(X_train.index == y_train.index).sum()"
   ]
  },
  {
   "cell_type": "markdown",
   "metadata": {},
   "source": [
    "# Feature Engineering"
   ]
  },
  {
   "cell_type": "code",
   "execution_count": 88,
   "metadata": {},
   "outputs": [],
   "source": [
    "# create vectorizer object\n",
    "vectorizer = TfidfVectorizer(stop_words='english', lowercase=True)\n",
    "\n",
    "# fit vectorizer with training data and transform\n",
    "X_train_vec = vectorizer.fit_transform(X_train)\n",
    "\n",
    "# transform test data\n",
    "X_test_vec = vectorizer.transform(X_test)"
   ]
  },
  {
   "cell_type": "markdown",
   "metadata": {},
   "source": [
    "# Modelling"
   ]
  },
  {
   "cell_type": "code",
   "execution_count": 84,
   "metadata": {},
   "outputs": [
    {
     "data": {
      "text/html": [
       "<style>#sk-container-id-2 {color: black;background-color: white;}#sk-container-id-2 pre{padding: 0;}#sk-container-id-2 div.sk-toggleable {background-color: white;}#sk-container-id-2 label.sk-toggleable__label {cursor: pointer;display: block;width: 100%;margin-bottom: 0;padding: 0.3em;box-sizing: border-box;text-align: center;}#sk-container-id-2 label.sk-toggleable__label-arrow:before {content: \"▸\";float: left;margin-right: 0.25em;color: #696969;}#sk-container-id-2 label.sk-toggleable__label-arrow:hover:before {color: black;}#sk-container-id-2 div.sk-estimator:hover label.sk-toggleable__label-arrow:before {color: black;}#sk-container-id-2 div.sk-toggleable__content {max-height: 0;max-width: 0;overflow: hidden;text-align: left;background-color: #f0f8ff;}#sk-container-id-2 div.sk-toggleable__content pre {margin: 0.2em;color: black;border-radius: 0.25em;background-color: #f0f8ff;}#sk-container-id-2 input.sk-toggleable__control:checked~div.sk-toggleable__content {max-height: 200px;max-width: 100%;overflow: auto;}#sk-container-id-2 input.sk-toggleable__control:checked~label.sk-toggleable__label-arrow:before {content: \"▾\";}#sk-container-id-2 div.sk-estimator input.sk-toggleable__control:checked~label.sk-toggleable__label {background-color: #d4ebff;}#sk-container-id-2 div.sk-label input.sk-toggleable__control:checked~label.sk-toggleable__label {background-color: #d4ebff;}#sk-container-id-2 input.sk-hidden--visually {border: 0;clip: rect(1px 1px 1px 1px);clip: rect(1px, 1px, 1px, 1px);height: 1px;margin: -1px;overflow: hidden;padding: 0;position: absolute;width: 1px;}#sk-container-id-2 div.sk-estimator {font-family: monospace;background-color: #f0f8ff;border: 1px dotted black;border-radius: 0.25em;box-sizing: border-box;margin-bottom: 0.5em;}#sk-container-id-2 div.sk-estimator:hover {background-color: #d4ebff;}#sk-container-id-2 div.sk-parallel-item::after {content: \"\";width: 100%;border-bottom: 1px solid gray;flex-grow: 1;}#sk-container-id-2 div.sk-label:hover label.sk-toggleable__label {background-color: #d4ebff;}#sk-container-id-2 div.sk-serial::before {content: \"\";position: absolute;border-left: 1px solid gray;box-sizing: border-box;top: 0;bottom: 0;left: 50%;z-index: 0;}#sk-container-id-2 div.sk-serial {display: flex;flex-direction: column;align-items: center;background-color: white;padding-right: 0.2em;padding-left: 0.2em;position: relative;}#sk-container-id-2 div.sk-item {position: relative;z-index: 1;}#sk-container-id-2 div.sk-parallel {display: flex;align-items: stretch;justify-content: center;background-color: white;position: relative;}#sk-container-id-2 div.sk-item::before, #sk-container-id-2 div.sk-parallel-item::before {content: \"\";position: absolute;border-left: 1px solid gray;box-sizing: border-box;top: 0;bottom: 0;left: 50%;z-index: -1;}#sk-container-id-2 div.sk-parallel-item {display: flex;flex-direction: column;z-index: 1;position: relative;background-color: white;}#sk-container-id-2 div.sk-parallel-item:first-child::after {align-self: flex-end;width: 50%;}#sk-container-id-2 div.sk-parallel-item:last-child::after {align-self: flex-start;width: 50%;}#sk-container-id-2 div.sk-parallel-item:only-child::after {width: 0;}#sk-container-id-2 div.sk-dashed-wrapped {border: 1px dashed gray;margin: 0 0.4em 0.5em 0.4em;box-sizing: border-box;padding-bottom: 0.4em;background-color: white;}#sk-container-id-2 div.sk-label label {font-family: monospace;font-weight: bold;display: inline-block;line-height: 1.2em;}#sk-container-id-2 div.sk-label-container {text-align: center;}#sk-container-id-2 div.sk-container {/* jupyter's `normalize.less` sets `[hidden] { display: none; }` but bootstrap.min.css set `[hidden] { display: none !important; }` so we also need the `!important` here to be able to override the default hidden behavior on the sphinx rendered scikit-learn.org. See: https://github.com/scikit-learn/scikit-learn/issues/21755 */display: inline-block !important;position: relative;}#sk-container-id-2 div.sk-text-repr-fallback {display: none;}</style><div id=\"sk-container-id-2\" class=\"sk-top-container\"><div class=\"sk-text-repr-fallback\"><pre>LogisticRegression()</pre><b>In a Jupyter environment, please rerun this cell to show the HTML representation or trust the notebook. <br />On GitHub, the HTML representation is unable to render, please try loading this page with nbviewer.org.</b></div><div class=\"sk-container\" hidden><div class=\"sk-item\"><div class=\"sk-estimator sk-toggleable\"><input class=\"sk-toggleable__control sk-hidden--visually\" id=\"sk-estimator-id-2\" type=\"checkbox\" checked><label for=\"sk-estimator-id-2\" class=\"sk-toggleable__label sk-toggleable__label-arrow\">LogisticRegression</label><div class=\"sk-toggleable__content\"><pre>LogisticRegression()</pre></div></div></div></div></div>"
      ],
      "text/plain": [
       "LogisticRegression()"
      ]
     },
     "execution_count": 84,
     "metadata": {},
     "output_type": "execute_result"
    }
   ],
   "source": [
    "# create logistic regression object and fit it with training data\n",
    "logreg = LogisticRegression()\n",
    "logreg.fit(X_train_vec, y_train)"
   ]
  },
  {
   "cell_type": "code",
   "execution_count": 85,
   "metadata": {},
   "outputs": [],
   "source": [
    "# function to calculate the accuracy, precision and recall\n",
    "def apr(y_pred, y_real):       \n",
    "    \n",
    "    \"\"\" Calculates accuracy, precision, recall\n",
    "        Requires predicted value first, and then the real value\n",
    "    \"\"\"\n",
    "    accuracy = metrics.accuracy_score(y_real, y_pred)\n",
    "    precision = metrics.precision_score(y_real, y_pred)\n",
    "    recall = metrics.recall_score(y_real, y_pred)\n",
    "    f1 = metrics.f1_score(y_real, y_pred)\n",
    "\n",
    "    print(f\"Accuracy:{accuracy}\")\n",
    "    print(f\"Precision:{precision}\")\n",
    "    print(f\"Recall:{recall}\")\n",
    "    print(f\"F1:{f1}\")"
   ]
  },
  {
   "cell_type": "code",
   "execution_count": 86,
   "metadata": {},
   "outputs": [
    {
     "name": "stdout",
     "output_type": "stream",
     "text": [
      "Accuracy:0.8243422019697192\n",
      "Precision:0.8225806451612904\n",
      "Recall:0.8262150220913107\n",
      "F1:0.8243938280675973\n"
     ]
    }
   ],
   "source": [
    "# predict on train data\n",
    "y_train_pred = logreg.predict(X_train_vec)\n",
    "\n",
    "# check train data metric scores\n",
    "apr(y_train_pred, y_train)"
   ]
  },
  {
   "cell_type": "code",
   "execution_count": 87,
   "metadata": {},
   "outputs": [
    {
     "name": "stdout",
     "output_type": "stream",
     "text": [
      "Accuracy:0.7278071722516167\n",
      "Precision:0.7161862527716186\n",
      "Recall:0.757327080890973\n",
      "F1:0.7361823361823362\n"
     ]
    }
   ],
   "source": [
    "# predict on test data\n",
    "y_test_pred = logreg.predict(X_test_vec)\n",
    "\n",
    "# check test data metric scores\n",
    "apr(y_test_pred, y_test)"
   ]
  },
  {
   "cell_type": "markdown",
   "metadata": {},
   "source": [
    "# Feature Importance"
   ]
  },
  {
   "cell_type": "code",
   "execution_count": 89,
   "metadata": {},
   "outputs": [
    {
     "data": {
      "text/plain": [
       "True"
      ]
     },
     "execution_count": 89,
     "metadata": {},
     "output_type": "execute_result"
    }
   ],
   "source": [
    "# sanity check\n",
    "len(logreg.coef_[0]) == len(vectorizer.get_feature_names_out())"
   ]
  },
  {
   "cell_type": "code",
   "execution_count": 90,
   "metadata": {},
   "outputs": [
    {
     "data": {
      "text/plain": [
       "[('000', -0.6147072562980712),\n",
       " ('01', 0.19552374571433892),\n",
       " ('02', -0.04358201104157373),\n",
       " ('03', 0.32050517505322995),\n",
       " ('04', 0.33164561950648613),\n",
       " ('05', 0.5162283821572962),\n",
       " ('06', 0.24022341026122826),\n",
       " ('07', 0.3976957660283289),\n",
       " ('08', -0.1702941861200822),\n",
       " ('09', 0.14544417255792563)]"
      ]
     },
     "execution_count": 90,
     "metadata": {},
     "output_type": "execute_result"
    }
   ],
   "source": [
    "# vectorized feature names\n",
    "feature_names = vectorizer.get_feature_names_out()\n",
    "# corresponding coefficients of feature names above\n",
    "coef = logreg.coef_[0]\n",
    "\n",
    "# map feature names to respective coefficients\n",
    "feature_coef = list(zip(feature_names, coef))\n",
    "feature_coef[:10]"
   ]
  },
  {
   "cell_type": "code",
   "execution_count": 30,
   "metadata": {},
   "outputs": [],
   "source": [
    "# create dictionary from mapped list of features and coefficients\n",
    "feature_dict = dict(feature_coef)\n",
    "\n",
    "# select top 10 features by their coef\n",
    "top_10 = dict(sorted(feature_dict.items(), key=lambda item: item[1], reverse=True)[:10])\n",
    "# select bottom 10 features by their coef\n",
    "bottom_10 = dict(sorted(feature_dict.items(), key=lambda item: item[1], reverse=True)[-10:])"
   ]
  },
  {
   "cell_type": "code",
   "execution_count": 36,
   "metadata": {},
   "outputs": [
    {
     "name": "stdout",
     "output_type": "stream",
     "text": [
      "Feature: clearly, Score: 2.88747\n",
      "Feature: hindi, Score: 2.64598\n",
      "Feature: end, Score: 2.56185\n",
      "Feature: analyst, Score: 2.15297\n",
      "Feature: complete, Score: 2.04772\n",
      "Feature: learn, Score: 2.01902\n",
      "Feature: deep, Score: 1.95431\n",
      "Feature: statquest, Score: 1.92681\n",
      "Feature: iot, Score: 1.92421\n",
      "Feature: 2022, Score: 1.90396\n"
     ]
    }
   ],
   "source": [
    "# visualise top 10 features\n",
    "for key, value in top_10.items():\n",
    "    print(f'Feature: {key}, Score: {value:.5f}')"
   ]
  },
  {
   "cell_type": "code",
   "execution_count": 37,
   "metadata": {},
   "outputs": [
    {
     "name": "stdout",
     "output_type": "stream",
     "text": [
      "Feature: coffee, Score: -1.85975\n",
      "Feature: revelation, Score: -1.96561\n",
      "Feature: impact, Score: -2.12922\n",
      "Feature: accountability, Score: -2.23032\n",
      "Feature: marketing, Score: -2.38663\n",
      "Feature: mentorship, Score: -2.84838\n",
      "Feature: study, Score: -3.14528\n",
      "Feature: bootcamp, Score: -3.19707\n",
      "Feature: great, Score: -3.46749\n",
      "Feature: tutorial, Score: -3.53311\n"
     ]
    }
   ],
   "source": [
    "# visualise bottom 10 features\n",
    "for key, value in bottom_10.items():\n",
    "    print(f'Feature: {key}, Score: {value:.5f}')"
   ]
  },
  {
   "cell_type": "markdown",
   "metadata": {},
   "source": [
    "# Hyperparameter Tuninig"
   ]
  },
  {
   "cell_type": "code",
   "execution_count": 60,
   "metadata": {},
   "outputs": [],
   "source": [
    "# create function for optimum feature selection for model\n",
    "def max_features(low, high, step):\n",
    "\n",
    "    max_list = list(range(low,(high+1),step))\n",
    "    train_accuracy = []\n",
    "    test_accuracy = []\n",
    "\n",
    "    for x in max_list:\n",
    "        \n",
    "        vectorizer = TfidfVectorizer(stop_words='english', lowercase=True, max_features=x)\n",
    "\n",
    "        X_train_vec = vectorizer.fit_transform(X_train)\n",
    "        X_test_vec = vectorizer.transform(X_test)\n",
    "\n",
    "        classifier = LogisticRegression()\n",
    "        classifier.fit(X_train_vec, y_train)\n",
    "\n",
    "        y_pred_train = classifier.predict(X_train_vec)\n",
    "        acc = accuracy_score(y_train, y_pred_train)\n",
    "        train_accuracy.append(acc)\n",
    "\n",
    "        y_pred_test = classifier.predict(X_test_vec)\n",
    "        acc2 = accuracy_score(y_test, y_pred_test)\n",
    "        test_accuracy.append(acc2)\n",
    "\n",
    "    data = {'max_features': max_list, 'train_accuracy': train_accuracy, 'test_accuracy': test_accuracy}\n",
    "\n",
    "    max_df = pd.DataFrame(data)\n",
    "\n",
    "    max_df['diff'] = max_df.train_accuracy - max_df.test_accuracy\n",
    "\n",
    "    return max_df"
   ]
  },
  {
   "cell_type": "code",
   "execution_count": 61,
   "metadata": {},
   "outputs": [
    {
     "data": {
      "text/html": [
       "<div>\n",
       "<style scoped>\n",
       "    .dataframe tbody tr th:only-of-type {\n",
       "        vertical-align: middle;\n",
       "    }\n",
       "\n",
       "    .dataframe tbody tr th {\n",
       "        vertical-align: top;\n",
       "    }\n",
       "\n",
       "    .dataframe thead th {\n",
       "        text-align: right;\n",
       "    }\n",
       "</style>\n",
       "<table border=\"1\" class=\"dataframe\">\n",
       "  <thead>\n",
       "    <tr style=\"text-align: right;\">\n",
       "      <th></th>\n",
       "      <th>max_features</th>\n",
       "      <th>train_accuracy</th>\n",
       "      <th>test_accuracy</th>\n",
       "      <th>diff</th>\n",
       "    </tr>\n",
       "  </thead>\n",
       "  <tbody>\n",
       "    <tr>\n",
       "      <th>0</th>\n",
       "      <td>200</td>\n",
       "      <td>0.712186</td>\n",
       "      <td>0.688419</td>\n",
       "      <td>0.023767</td>\n",
       "    </tr>\n",
       "    <tr>\n",
       "      <th>1</th>\n",
       "      <td>250</td>\n",
       "      <td>0.721299</td>\n",
       "      <td>0.691946</td>\n",
       "      <td>0.029354</td>\n",
       "    </tr>\n",
       "    <tr>\n",
       "      <th>2</th>\n",
       "      <td>300</td>\n",
       "      <td>0.727032</td>\n",
       "      <td>0.698413</td>\n",
       "      <td>0.028619</td>\n",
       "    </tr>\n",
       "    <tr>\n",
       "      <th>3</th>\n",
       "      <td>350</td>\n",
       "      <td>0.734676</td>\n",
       "      <td>0.696061</td>\n",
       "      <td>0.038615</td>\n",
       "    </tr>\n",
       "    <tr>\n",
       "      <th>4</th>\n",
       "      <td>400</td>\n",
       "      <td>0.737616</td>\n",
       "      <td>0.699588</td>\n",
       "      <td>0.038027</td>\n",
       "    </tr>\n",
       "    <tr>\n",
       "      <th>5</th>\n",
       "      <td>450</td>\n",
       "      <td>0.743496</td>\n",
       "      <td>0.714286</td>\n",
       "      <td>0.029210</td>\n",
       "    </tr>\n",
       "    <tr>\n",
       "      <th>6</th>\n",
       "      <td>500</td>\n",
       "      <td>0.748052</td>\n",
       "      <td>0.712522</td>\n",
       "      <td>0.035530</td>\n",
       "    </tr>\n",
       "    <tr>\n",
       "      <th>7</th>\n",
       "      <td>550</td>\n",
       "      <td>0.750845</td>\n",
       "      <td>0.710170</td>\n",
       "      <td>0.040675</td>\n",
       "    </tr>\n",
       "    <tr>\n",
       "      <th>8</th>\n",
       "      <td>600</td>\n",
       "      <td>0.756284</td>\n",
       "      <td>0.714874</td>\n",
       "      <td>0.041410</td>\n",
       "    </tr>\n",
       "    <tr>\n",
       "      <th>9</th>\n",
       "      <td>650</td>\n",
       "      <td>0.759224</td>\n",
       "      <td>0.712522</td>\n",
       "      <td>0.046702</td>\n",
       "    </tr>\n",
       "    <tr>\n",
       "      <th>10</th>\n",
       "      <td>700</td>\n",
       "      <td>0.762311</td>\n",
       "      <td>0.713110</td>\n",
       "      <td>0.049201</td>\n",
       "    </tr>\n",
       "    <tr>\n",
       "      <th>11</th>\n",
       "      <td>750</td>\n",
       "      <td>0.758489</td>\n",
       "      <td>0.717225</td>\n",
       "      <td>0.041264</td>\n",
       "    </tr>\n",
       "    <tr>\n",
       "      <th>12</th>\n",
       "      <td>800</td>\n",
       "      <td>0.763193</td>\n",
       "      <td>0.713110</td>\n",
       "      <td>0.050083</td>\n",
       "    </tr>\n",
       "    <tr>\n",
       "      <th>13</th>\n",
       "      <td>850</td>\n",
       "      <td>0.769366</td>\n",
       "      <td>0.717813</td>\n",
       "      <td>0.051553</td>\n",
       "    </tr>\n",
       "    <tr>\n",
       "      <th>14</th>\n",
       "      <td>900</td>\n",
       "      <td>0.770101</td>\n",
       "      <td>0.716637</td>\n",
       "      <td>0.053464</td>\n",
       "    </tr>\n",
       "    <tr>\n",
       "      <th>15</th>\n",
       "      <td>950</td>\n",
       "      <td>0.772012</td>\n",
       "      <td>0.716049</td>\n",
       "      <td>0.055963</td>\n",
       "    </tr>\n",
       "    <tr>\n",
       "      <th>16</th>\n",
       "      <td>1000</td>\n",
       "      <td>0.773629</td>\n",
       "      <td>0.714286</td>\n",
       "      <td>0.059344</td>\n",
       "    </tr>\n",
       "  </tbody>\n",
       "</table>\n",
       "</div>"
      ],
      "text/plain": [
       "    max_features  train_accuracy  test_accuracy      diff\n",
       "0            200        0.712186       0.688419  0.023767\n",
       "1            250        0.721299       0.691946  0.029354\n",
       "2            300        0.727032       0.698413  0.028619\n",
       "3            350        0.734676       0.696061  0.038615\n",
       "4            400        0.737616       0.699588  0.038027\n",
       "5            450        0.743496       0.714286  0.029210\n",
       "6            500        0.748052       0.712522  0.035530\n",
       "7            550        0.750845       0.710170  0.040675\n",
       "8            600        0.756284       0.714874  0.041410\n",
       "9            650        0.759224       0.712522  0.046702\n",
       "10           700        0.762311       0.713110  0.049201\n",
       "11           750        0.758489       0.717225  0.041264\n",
       "12           800        0.763193       0.713110  0.050083\n",
       "13           850        0.769366       0.717813  0.051553\n",
       "14           900        0.770101       0.716637  0.053464\n",
       "15           950        0.772012       0.716049  0.055963\n",
       "16          1000        0.773629       0.714286  0.059344"
      ]
     },
     "execution_count": 61,
     "metadata": {},
     "output_type": "execute_result"
    }
   ],
   "source": [
    "# check range of max features between 200 - 1000 incremented by 50s\n",
    "max_features(200,1000,50)"
   ]
  },
  {
   "cell_type": "code",
   "execution_count": 62,
   "metadata": {},
   "outputs": [
    {
     "data": {
      "text/html": [
       "<div>\n",
       "<style scoped>\n",
       "    .dataframe tbody tr th:only-of-type {\n",
       "        vertical-align: middle;\n",
       "    }\n",
       "\n",
       "    .dataframe tbody tr th {\n",
       "        vertical-align: top;\n",
       "    }\n",
       "\n",
       "    .dataframe thead th {\n",
       "        text-align: right;\n",
       "    }\n",
       "</style>\n",
       "<table border=\"1\" class=\"dataframe\">\n",
       "  <thead>\n",
       "    <tr style=\"text-align: right;\">\n",
       "      <th></th>\n",
       "      <th>max_features</th>\n",
       "      <th>train_accuracy</th>\n",
       "      <th>test_accuracy</th>\n",
       "      <th>diff</th>\n",
       "    </tr>\n",
       "  </thead>\n",
       "  <tbody>\n",
       "    <tr>\n",
       "      <th>0</th>\n",
       "      <td>400</td>\n",
       "      <td>0.737616</td>\n",
       "      <td>0.699588</td>\n",
       "      <td>0.038027</td>\n",
       "    </tr>\n",
       "    <tr>\n",
       "      <th>1</th>\n",
       "      <td>410</td>\n",
       "      <td>0.740703</td>\n",
       "      <td>0.702528</td>\n",
       "      <td>0.038175</td>\n",
       "    </tr>\n",
       "    <tr>\n",
       "      <th>2</th>\n",
       "      <td>420</td>\n",
       "      <td>0.742908</td>\n",
       "      <td>0.706055</td>\n",
       "      <td>0.036852</td>\n",
       "    </tr>\n",
       "    <tr>\n",
       "      <th>3</th>\n",
       "      <td>430</td>\n",
       "      <td>0.742467</td>\n",
       "      <td>0.706643</td>\n",
       "      <td>0.035823</td>\n",
       "    </tr>\n",
       "    <tr>\n",
       "      <th>4</th>\n",
       "      <td>440</td>\n",
       "      <td>0.742614</td>\n",
       "      <td>0.708995</td>\n",
       "      <td>0.033619</td>\n",
       "    </tr>\n",
       "    <tr>\n",
       "      <th>5</th>\n",
       "      <td>450</td>\n",
       "      <td>0.743496</td>\n",
       "      <td>0.714286</td>\n",
       "      <td>0.029210</td>\n",
       "    </tr>\n",
       "    <tr>\n",
       "      <th>6</th>\n",
       "      <td>460</td>\n",
       "      <td>0.744524</td>\n",
       "      <td>0.708995</td>\n",
       "      <td>0.035530</td>\n",
       "    </tr>\n",
       "    <tr>\n",
       "      <th>7</th>\n",
       "      <td>470</td>\n",
       "      <td>0.745553</td>\n",
       "      <td>0.710758</td>\n",
       "      <td>0.034795</td>\n",
       "    </tr>\n",
       "    <tr>\n",
       "      <th>8</th>\n",
       "      <td>480</td>\n",
       "      <td>0.747317</td>\n",
       "      <td>0.711934</td>\n",
       "      <td>0.035383</td>\n",
       "    </tr>\n",
       "    <tr>\n",
       "      <th>9</th>\n",
       "      <td>490</td>\n",
       "      <td>0.748052</td>\n",
       "      <td>0.711346</td>\n",
       "      <td>0.036706</td>\n",
       "    </tr>\n",
       "    <tr>\n",
       "      <th>10</th>\n",
       "      <td>500</td>\n",
       "      <td>0.748052</td>\n",
       "      <td>0.712522</td>\n",
       "      <td>0.035530</td>\n",
       "    </tr>\n",
       "  </tbody>\n",
       "</table>\n",
       "</div>"
      ],
      "text/plain": [
       "    max_features  train_accuracy  test_accuracy      diff\n",
       "0            400        0.737616       0.699588  0.038027\n",
       "1            410        0.740703       0.702528  0.038175\n",
       "2            420        0.742908       0.706055  0.036852\n",
       "3            430        0.742467       0.706643  0.035823\n",
       "4            440        0.742614       0.708995  0.033619\n",
       "5            450        0.743496       0.714286  0.029210\n",
       "6            460        0.744524       0.708995  0.035530\n",
       "7            470        0.745553       0.710758  0.034795\n",
       "8            480        0.747317       0.711934  0.035383\n",
       "9            490        0.748052       0.711346  0.036706\n",
       "10           500        0.748052       0.712522  0.035530"
      ]
     },
     "execution_count": 62,
     "metadata": {},
     "output_type": "execute_result"
    }
   ],
   "source": [
    "# check range of max features between 400 - 500 incremented in 10s\n",
    "max_features(400,500,10)"
   ]
  },
  {
   "cell_type": "code",
   "execution_count": 63,
   "metadata": {},
   "outputs": [
    {
     "data": {
      "text/html": [
       "<div>\n",
       "<style scoped>\n",
       "    .dataframe tbody tr th:only-of-type {\n",
       "        vertical-align: middle;\n",
       "    }\n",
       "\n",
       "    .dataframe tbody tr th {\n",
       "        vertical-align: top;\n",
       "    }\n",
       "\n",
       "    .dataframe thead th {\n",
       "        text-align: right;\n",
       "    }\n",
       "</style>\n",
       "<table border=\"1\" class=\"dataframe\">\n",
       "  <thead>\n",
       "    <tr style=\"text-align: right;\">\n",
       "      <th></th>\n",
       "      <th>max_features</th>\n",
       "      <th>train_accuracy</th>\n",
       "      <th>test_accuracy</th>\n",
       "      <th>diff</th>\n",
       "    </tr>\n",
       "  </thead>\n",
       "  <tbody>\n",
       "    <tr>\n",
       "      <th>0</th>\n",
       "      <td>440</td>\n",
       "      <td>0.742614</td>\n",
       "      <td>0.708995</td>\n",
       "      <td>0.033619</td>\n",
       "    </tr>\n",
       "    <tr>\n",
       "      <th>1</th>\n",
       "      <td>441</td>\n",
       "      <td>0.742761</td>\n",
       "      <td>0.708995</td>\n",
       "      <td>0.033766</td>\n",
       "    </tr>\n",
       "    <tr>\n",
       "      <th>2</th>\n",
       "      <td>442</td>\n",
       "      <td>0.743349</td>\n",
       "      <td>0.710170</td>\n",
       "      <td>0.033178</td>\n",
       "    </tr>\n",
       "    <tr>\n",
       "      <th>3</th>\n",
       "      <td>443</td>\n",
       "      <td>0.743202</td>\n",
       "      <td>0.710170</td>\n",
       "      <td>0.033031</td>\n",
       "    </tr>\n",
       "    <tr>\n",
       "      <th>4</th>\n",
       "      <td>444</td>\n",
       "      <td>0.743496</td>\n",
       "      <td>0.710758</td>\n",
       "      <td>0.032737</td>\n",
       "    </tr>\n",
       "    <tr>\n",
       "      <th>5</th>\n",
       "      <td>445</td>\n",
       "      <td>0.743643</td>\n",
       "      <td>0.711934</td>\n",
       "      <td>0.031708</td>\n",
       "    </tr>\n",
       "    <tr>\n",
       "      <th>6</th>\n",
       "      <td>446</td>\n",
       "      <td>0.743496</td>\n",
       "      <td>0.711346</td>\n",
       "      <td>0.032149</td>\n",
       "    </tr>\n",
       "    <tr>\n",
       "      <th>7</th>\n",
       "      <td>447</td>\n",
       "      <td>0.743349</td>\n",
       "      <td>0.711934</td>\n",
       "      <td>0.031414</td>\n",
       "    </tr>\n",
       "    <tr>\n",
       "      <th>8</th>\n",
       "      <td>448</td>\n",
       "      <td>0.743790</td>\n",
       "      <td>0.711934</td>\n",
       "      <td>0.031855</td>\n",
       "    </tr>\n",
       "    <tr>\n",
       "      <th>9</th>\n",
       "      <td>449</td>\n",
       "      <td>0.743349</td>\n",
       "      <td>0.714286</td>\n",
       "      <td>0.029063</td>\n",
       "    </tr>\n",
       "    <tr>\n",
       "      <th>10</th>\n",
       "      <td>450</td>\n",
       "      <td>0.743496</td>\n",
       "      <td>0.714286</td>\n",
       "      <td>0.029210</td>\n",
       "    </tr>\n",
       "    <tr>\n",
       "      <th>11</th>\n",
       "      <td>451</td>\n",
       "      <td>0.743936</td>\n",
       "      <td>0.712522</td>\n",
       "      <td>0.031414</td>\n",
       "    </tr>\n",
       "    <tr>\n",
       "      <th>12</th>\n",
       "      <td>452</td>\n",
       "      <td>0.743643</td>\n",
       "      <td>0.708995</td>\n",
       "      <td>0.034648</td>\n",
       "    </tr>\n",
       "    <tr>\n",
       "      <th>13</th>\n",
       "      <td>453</td>\n",
       "      <td>0.744671</td>\n",
       "      <td>0.710170</td>\n",
       "      <td>0.034501</td>\n",
       "    </tr>\n",
       "    <tr>\n",
       "      <th>14</th>\n",
       "      <td>454</td>\n",
       "      <td>0.744524</td>\n",
       "      <td>0.709583</td>\n",
       "      <td>0.034942</td>\n",
       "    </tr>\n",
       "    <tr>\n",
       "      <th>15</th>\n",
       "      <td>455</td>\n",
       "      <td>0.744524</td>\n",
       "      <td>0.709583</td>\n",
       "      <td>0.034942</td>\n",
       "    </tr>\n",
       "    <tr>\n",
       "      <th>16</th>\n",
       "      <td>456</td>\n",
       "      <td>0.744671</td>\n",
       "      <td>0.708995</td>\n",
       "      <td>0.035677</td>\n",
       "    </tr>\n",
       "    <tr>\n",
       "      <th>17</th>\n",
       "      <td>457</td>\n",
       "      <td>0.744671</td>\n",
       "      <td>0.708995</td>\n",
       "      <td>0.035677</td>\n",
       "    </tr>\n",
       "    <tr>\n",
       "      <th>18</th>\n",
       "      <td>458</td>\n",
       "      <td>0.744671</td>\n",
       "      <td>0.708995</td>\n",
       "      <td>0.035677</td>\n",
       "    </tr>\n",
       "    <tr>\n",
       "      <th>19</th>\n",
       "      <td>459</td>\n",
       "      <td>0.744524</td>\n",
       "      <td>0.710170</td>\n",
       "      <td>0.034354</td>\n",
       "    </tr>\n",
       "    <tr>\n",
       "      <th>20</th>\n",
       "      <td>460</td>\n",
       "      <td>0.744524</td>\n",
       "      <td>0.708995</td>\n",
       "      <td>0.035530</td>\n",
       "    </tr>\n",
       "  </tbody>\n",
       "</table>\n",
       "</div>"
      ],
      "text/plain": [
       "    max_features  train_accuracy  test_accuracy      diff\n",
       "0            440        0.742614       0.708995  0.033619\n",
       "1            441        0.742761       0.708995  0.033766\n",
       "2            442        0.743349       0.710170  0.033178\n",
       "3            443        0.743202       0.710170  0.033031\n",
       "4            444        0.743496       0.710758  0.032737\n",
       "5            445        0.743643       0.711934  0.031708\n",
       "6            446        0.743496       0.711346  0.032149\n",
       "7            447        0.743349       0.711934  0.031414\n",
       "8            448        0.743790       0.711934  0.031855\n",
       "9            449        0.743349       0.714286  0.029063\n",
       "10           450        0.743496       0.714286  0.029210\n",
       "11           451        0.743936       0.712522  0.031414\n",
       "12           452        0.743643       0.708995  0.034648\n",
       "13           453        0.744671       0.710170  0.034501\n",
       "14           454        0.744524       0.709583  0.034942\n",
       "15           455        0.744524       0.709583  0.034942\n",
       "16           456        0.744671       0.708995  0.035677\n",
       "17           457        0.744671       0.708995  0.035677\n",
       "18           458        0.744671       0.708995  0.035677\n",
       "19           459        0.744524       0.710170  0.034354\n",
       "20           460        0.744524       0.708995  0.035530"
      ]
     },
     "execution_count": 63,
     "metadata": {},
     "output_type": "execute_result"
    }
   ],
   "source": [
    "# check range of max features between 440 - 460 incremented in 1s\n",
    "max_features(440,460,1)"
   ]
  },
  {
   "cell_type": "code",
   "execution_count": 91,
   "metadata": {},
   "outputs": [
    {
     "data": {
      "text/plain": [
       "2.9063"
      ]
     },
     "execution_count": 91,
     "metadata": {},
     "output_type": "execute_result"
    }
   ],
   "source": [
    "# find the minimum difference from the most granular test, to mitigate overfitting, by keeping diff in accuracy score below 3%\n",
    "maxfe_df = max_features(440,460,1)\n",
    "round(maxfe_df['diff'].min(),6)*100"
   ]
  },
  {
   "cell_type": "markdown",
   "metadata": {},
   "source": [
    "# Tuned Max Features Model"
   ]
  },
  {
   "cell_type": "code",
   "execution_count": 92,
   "metadata": {},
   "outputs": [],
   "source": [
    "# create vectorizer object\n",
    "vectorizer = TfidfVectorizer(stop_words='english', lowercase=True, max_features=449)\n",
    "\n",
    "# fit vectorizer with training data and transform\n",
    "X_train_vec = vectorizer.fit_transform(X_train)\n",
    "\n",
    "# transform test data\n",
    "X_test_vec = vectorizer.transform(X_test)"
   ]
  },
  {
   "cell_type": "code",
   "execution_count": 93,
   "metadata": {},
   "outputs": [
    {
     "data": {
      "text/html": [
       "<style>#sk-container-id-3 {color: black;background-color: white;}#sk-container-id-3 pre{padding: 0;}#sk-container-id-3 div.sk-toggleable {background-color: white;}#sk-container-id-3 label.sk-toggleable__label {cursor: pointer;display: block;width: 100%;margin-bottom: 0;padding: 0.3em;box-sizing: border-box;text-align: center;}#sk-container-id-3 label.sk-toggleable__label-arrow:before {content: \"▸\";float: left;margin-right: 0.25em;color: #696969;}#sk-container-id-3 label.sk-toggleable__label-arrow:hover:before {color: black;}#sk-container-id-3 div.sk-estimator:hover label.sk-toggleable__label-arrow:before {color: black;}#sk-container-id-3 div.sk-toggleable__content {max-height: 0;max-width: 0;overflow: hidden;text-align: left;background-color: #f0f8ff;}#sk-container-id-3 div.sk-toggleable__content pre {margin: 0.2em;color: black;border-radius: 0.25em;background-color: #f0f8ff;}#sk-container-id-3 input.sk-toggleable__control:checked~div.sk-toggleable__content {max-height: 200px;max-width: 100%;overflow: auto;}#sk-container-id-3 input.sk-toggleable__control:checked~label.sk-toggleable__label-arrow:before {content: \"▾\";}#sk-container-id-3 div.sk-estimator input.sk-toggleable__control:checked~label.sk-toggleable__label {background-color: #d4ebff;}#sk-container-id-3 div.sk-label input.sk-toggleable__control:checked~label.sk-toggleable__label {background-color: #d4ebff;}#sk-container-id-3 input.sk-hidden--visually {border: 0;clip: rect(1px 1px 1px 1px);clip: rect(1px, 1px, 1px, 1px);height: 1px;margin: -1px;overflow: hidden;padding: 0;position: absolute;width: 1px;}#sk-container-id-3 div.sk-estimator {font-family: monospace;background-color: #f0f8ff;border: 1px dotted black;border-radius: 0.25em;box-sizing: border-box;margin-bottom: 0.5em;}#sk-container-id-3 div.sk-estimator:hover {background-color: #d4ebff;}#sk-container-id-3 div.sk-parallel-item::after {content: \"\";width: 100%;border-bottom: 1px solid gray;flex-grow: 1;}#sk-container-id-3 div.sk-label:hover label.sk-toggleable__label {background-color: #d4ebff;}#sk-container-id-3 div.sk-serial::before {content: \"\";position: absolute;border-left: 1px solid gray;box-sizing: border-box;top: 0;bottom: 0;left: 50%;z-index: 0;}#sk-container-id-3 div.sk-serial {display: flex;flex-direction: column;align-items: center;background-color: white;padding-right: 0.2em;padding-left: 0.2em;position: relative;}#sk-container-id-3 div.sk-item {position: relative;z-index: 1;}#sk-container-id-3 div.sk-parallel {display: flex;align-items: stretch;justify-content: center;background-color: white;position: relative;}#sk-container-id-3 div.sk-item::before, #sk-container-id-3 div.sk-parallel-item::before {content: \"\";position: absolute;border-left: 1px solid gray;box-sizing: border-box;top: 0;bottom: 0;left: 50%;z-index: -1;}#sk-container-id-3 div.sk-parallel-item {display: flex;flex-direction: column;z-index: 1;position: relative;background-color: white;}#sk-container-id-3 div.sk-parallel-item:first-child::after {align-self: flex-end;width: 50%;}#sk-container-id-3 div.sk-parallel-item:last-child::after {align-self: flex-start;width: 50%;}#sk-container-id-3 div.sk-parallel-item:only-child::after {width: 0;}#sk-container-id-3 div.sk-dashed-wrapped {border: 1px dashed gray;margin: 0 0.4em 0.5em 0.4em;box-sizing: border-box;padding-bottom: 0.4em;background-color: white;}#sk-container-id-3 div.sk-label label {font-family: monospace;font-weight: bold;display: inline-block;line-height: 1.2em;}#sk-container-id-3 div.sk-label-container {text-align: center;}#sk-container-id-3 div.sk-container {/* jupyter's `normalize.less` sets `[hidden] { display: none; }` but bootstrap.min.css set `[hidden] { display: none !important; }` so we also need the `!important` here to be able to override the default hidden behavior on the sphinx rendered scikit-learn.org. See: https://github.com/scikit-learn/scikit-learn/issues/21755 */display: inline-block !important;position: relative;}#sk-container-id-3 div.sk-text-repr-fallback {display: none;}</style><div id=\"sk-container-id-3\" class=\"sk-top-container\"><div class=\"sk-text-repr-fallback\"><pre>LogisticRegression()</pre><b>In a Jupyter environment, please rerun this cell to show the HTML representation or trust the notebook. <br />On GitHub, the HTML representation is unable to render, please try loading this page with nbviewer.org.</b></div><div class=\"sk-container\" hidden><div class=\"sk-item\"><div class=\"sk-estimator sk-toggleable\"><input class=\"sk-toggleable__control sk-hidden--visually\" id=\"sk-estimator-id-3\" type=\"checkbox\" checked><label for=\"sk-estimator-id-3\" class=\"sk-toggleable__label sk-toggleable__label-arrow\">LogisticRegression</label><div class=\"sk-toggleable__content\"><pre>LogisticRegression()</pre></div></div></div></div></div>"
      ],
      "text/plain": [
       "LogisticRegression()"
      ]
     },
     "execution_count": 93,
     "metadata": {},
     "output_type": "execute_result"
    }
   ],
   "source": [
    "# create logistic regression object and fit it with training data\n",
    "logreg = LogisticRegression()\n",
    "logreg.fit(X_train_vec, y_train)"
   ]
  },
  {
   "cell_type": "code",
   "execution_count": 94,
   "metadata": {},
   "outputs": [
    {
     "name": "stdout",
     "output_type": "stream",
     "text": [
      "Accuracy:0.7433485227105688\n",
      "Precision:0.7420017610801292\n",
      "Recall:0.7446244477172312\n",
      "F1:0.74331079094384\n"
     ]
    }
   ],
   "source": [
    "# predict on train data\n",
    "y_train_pred = logreg.predict(X_train_vec)\n",
    "\n",
    "# check train data metric scores\n",
    "apr(y_train_pred, y_train)"
   ]
  },
  {
   "cell_type": "code",
   "execution_count": 95,
   "metadata": {},
   "outputs": [
    {
     "name": "stdout",
     "output_type": "stream",
     "text": [
      "Accuracy:0.7142857142857143\n",
      "Precision:0.7078142695356738\n",
      "Recall:0.7327080890973037\n",
      "F1:0.7200460829493087\n"
     ]
    }
   ],
   "source": [
    "# predict on test data\n",
    "y_test_pred = logreg.predict(X_test_vec)\n",
    "\n",
    "# check test data metric scores\n",
    "apr(y_test_pred, y_test)"
   ]
  }
 ],
 "metadata": {
  "kernelspec": {
   "display_name": "base",
   "language": "python",
   "name": "python3"
  },
  "language_info": {
   "codemirror_mode": {
    "name": "ipython",
    "version": 3
   },
   "file_extension": ".py",
   "mimetype": "text/x-python",
   "name": "python",
   "nbconvert_exporter": "python",
   "pygments_lexer": "ipython3",
   "version": "3.10.9"
  }
 },
 "nbformat": 4,
 "nbformat_minor": 2
}

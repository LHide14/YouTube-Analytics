{
 "cells": [
  {
   "cell_type": "markdown",
   "metadata": {},
   "source": [
    "|Column|Description|\n",
    "|---:|:---|\n",
    "|channel_id|The unique string ID that YouTube gives to each channel|\n",
    "|video_id|The unique string ID that YouTube gives to each video|\n",
    "|published_at|Date and time video was published using YouTube default format|\n",
    "|title|String title of the video given by video creator|\n",
    "|description|String description of the video given by the video creator|\n",
    "|tags|List of the string tags assigned to the video by the video creator|\n",
    "|category_id|The unique integer ID that YouTube gives to each category|\n",
    "|duration|Time length of the video using YouTube default format|\n",
    "|caption|Boolean value that indicates whether captions are available|\n",
    "|licensed_content|Boolean value that indicates whether the video represents licensed content, which means that the content was uploaded to a channel linked to a YouTube content partner and then claimed by that partner|\n",
    "|defualt_language|The language of the video's title and description|\n",
    "|content_rating|Specifies the rating the content recieved under various rating schemes|\n",
    "|view_count|The number of times a video has been viewed|\n",
    "|like_count|The number of users that have liked the video|\n",
    "|favourite_count|This property has been deprecated. The deprecation is effective as of August 28, 2015. The property's value is now always set to 0|\n",
    "|comment_count|The number of comments on the video|\n",
    "|channel_name|The name of the channel that posted the video|\n",
    "|subscribers|How many subscribers the channel that posted the video has|\n",
    "|total_views|Total number of views the channel that posted the video has|\n",
    "|total_videos|Total number of published videos the channel that posted the video has|\n",
    "|playlist_id|The playlist ID containing every video published by the channel that posted the video|\n",
    "|category|The category YouTube has assigned to the video|\n",
    "|duration_formatted|The duration of the video re-formatted into time data|\n",
    "|published_at_formatted|Published at data re-formatted into time data|\n",
    "|like_ratio|Number of likes of a video divided by the number of views|\n",
    "|comment_ratio|Number of comments of a video divided by the number of views|\n",
    "|favourite_ratio|Number of favourites of a video divided by the number of views|\n",
    "|tags_formatted|Tags that have been re-formatted into a list|\n",
    "|no_of_tags|The number of tags each video has|\n",
    "|description_length|The number of characters in a video's description|\n",
    "|title_length|How many characters in a video's title|"
   ]
  }
 ],
 "metadata": {
  "kernelspec": {
   "display_name": "base",
   "language": "python",
   "name": "python3"
  },
  "language_info": {
   "name": "python",
   "version": "3.10.9"
  }
 },
 "nbformat": 4,
 "nbformat_minor": 2
}
